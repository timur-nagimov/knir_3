{
 "cells": [
  {
   "cell_type": "code",
   "execution_count": 1,
   "id": "5ae571ef-c56e-4ad9-887a-998b7bba967f",
   "metadata": {
    "tags": []
   },
   "outputs": [],
   "source": [
    "import os\n",
    "os.environ['TF_CPP_MIN_LOG_LEVEL'] = '2'\n",
    "\n",
    "import tensorflow as tf\n",
    "from tensorflow import keras\n",
    "from tensorflow.keras import layers\n",
    "from tensorflow.keras.datasets import cifar10\n",
    "import matplotlib.pyplot as plt\n",
    "import seaborn as sns\n",
    "import pandas as pd\n",
    "\n",
    "tf.random.set_seed(1)"
   ]
  },
  {
   "cell_type": "code",
   "execution_count": 2,
   "id": "cbe5f2ee-175e-4c25-bcc7-9ee96530a33b",
   "metadata": {
    "tags": []
   },
   "outputs": [],
   "source": [
    "import plotly.express as px"
   ]
  },
  {
   "cell_type": "code",
   "execution_count": 3,
   "id": "cf9cfffe-6886-4f32-a3db-abe639776848",
   "metadata": {
    "tags": []
   },
   "outputs": [],
   "source": [
    "(X_train, y_train), (X_test, y_test) = cifar10.load_data()"
   ]
  },
  {
   "cell_type": "code",
   "execution_count": 4,
   "id": "a38af230-1715-4989-a2ea-0243fa92102e",
   "metadata": {
    "tags": []
   },
   "outputs": [],
   "source": [
    "X_train = X_train / 255\n",
    "X_test = X_test / 255"
   ]
  },
  {
   "cell_type": "code",
   "execution_count": 5,
   "id": "18f0f1fa-dd9e-4f7e-bd91-c27a57e2d12e",
   "metadata": {
    "tags": []
   },
   "outputs": [],
   "source": [
    "y_train = keras.utils.to_categorical(y_train, 10)\n",
    "y_test = keras.utils.to_categorical(y_test, 10)"
   ]
  },
  {
   "cell_type": "markdown",
   "id": "f1a20994-15f3-4df1-bf4e-5c34c44dd293",
   "metadata": {},
   "source": [
    "## model"
   ]
  },
  {
   "cell_type": "code",
   "execution_count": 6,
   "id": "7d5f4077-d24e-4724-8dc9-441751557778",
   "metadata": {
    "tags": []
   },
   "outputs": [],
   "source": [
    "inputs = keras.Input(shape=(32,32,3), name='img')\n",
    "x = layers.Conv2D(32,3, activation='relu')(inputs)\n",
    "x = layers.Conv2D(64,3, activation='relu')(x)\n",
    "block_1_output = layers.MaxPooling2D(3)(x)\n",
    "x = layers.Conv2D(64,3, activation='relu', padding='same')(block_1_output)\n",
    "x = layers.Conv2D(64,3, activation='relu', padding='same')(x)\n",
    "block_2_output = layers.add([x, block_1_output])\n",
    "x = layers.Conv2D(64, 3, activation='relu', padding='same')(block_2_output)\n",
    "x = layers.Conv2D(64,3, activation='relu', padding='same')(x)\n",
    "block_3_output = layers.add([x, block_2_output])\n",
    "x = layers.Conv2D(64, 3, activation='relu', padding='same')(block_3_output)\n",
    "x = layers.GlobalAveragePooling2D()(x)\n",
    "x = layers.Dense(256, activation='relu')(x)\n",
    "x = layers.Dropout(0.5)(x)\n",
    "outputs = layers.Dense(10, activation='softmax')(x)"
   ]
  },
  {
   "cell_type": "code",
   "execution_count": 7,
   "id": "16d00f67-2f12-4aa4-b175-573448899283",
   "metadata": {
    "tags": []
   },
   "outputs": [],
   "source": [
    "model = keras.Model(inputs, outputs, name='toy_resnet')"
   ]
  },
  {
   "cell_type": "code",
   "execution_count": 8,
   "id": "ead49257-3edc-414e-a7c3-21ef03cfb340",
   "metadata": {
    "tags": []
   },
   "outputs": [],
   "source": [
    "model.compile(optimizer='adam', loss='categorical_crossentropy', metrics=['accuracy'])"
   ]
  },
  {
   "cell_type": "code",
   "execution_count": 9,
   "id": "354ec2cd-6fe2-46d5-9dd4-7badd95b77b9",
   "metadata": {
    "scrolled": true,
    "tags": []
   },
   "outputs": [
    {
     "name": "stdout",
     "output_type": "stream",
     "text": [
      "Epoch 1/15\n",
      "625/625 [==============================] - 68s 106ms/step - loss: 1.8080 - accuracy: 0.2898 - val_loss: 1.5366 - val_accuracy: 0.4131\n",
      "Epoch 2/15\n",
      "625/625 [==============================] - 72s 115ms/step - loss: 1.3508 - accuracy: 0.4962 - val_loss: 1.1645 - val_accuracy: 0.5723\n",
      "Epoch 3/15\n",
      "625/625 [==============================] - 68s 109ms/step - loss: 1.0945 - accuracy: 0.6053 - val_loss: 0.9937 - val_accuracy: 0.6348\n",
      "Epoch 4/15\n",
      "625/625 [==============================] - 61s 97ms/step - loss: 0.9631 - accuracy: 0.6544 - val_loss: 0.9162 - val_accuracy: 0.6700\n",
      "Epoch 5/15\n",
      "625/625 [==============================] - 64s 103ms/step - loss: 0.8608 - accuracy: 0.6932 - val_loss: 0.8521 - val_accuracy: 0.6939\n",
      "Epoch 6/15\n",
      "625/625 [==============================] - 62s 100ms/step - loss: 0.7796 - accuracy: 0.7234 - val_loss: 0.7787 - val_accuracy: 0.7288\n",
      "Epoch 7/15\n",
      "625/625 [==============================] - 59s 94ms/step - loss: 0.7081 - accuracy: 0.7522 - val_loss: 0.7691 - val_accuracy: 0.7308\n",
      "Epoch 8/15\n",
      "625/625 [==============================] - 60s 96ms/step - loss: 0.6566 - accuracy: 0.7700 - val_loss: 0.7248 - val_accuracy: 0.7475\n",
      "Epoch 9/15\n",
      "625/625 [==============================] - 61s 98ms/step - loss: 0.6010 - accuracy: 0.7904 - val_loss: 0.6588 - val_accuracy: 0.7720\n",
      "Epoch 10/15\n",
      "625/625 [==============================] - 64s 102ms/step - loss: 0.5515 - accuracy: 0.8078 - val_loss: 0.7452 - val_accuracy: 0.7533\n",
      "Epoch 11/15\n",
      "625/625 [==============================] - 59s 95ms/step - loss: 0.5164 - accuracy: 0.8209 - val_loss: 0.6992 - val_accuracy: 0.7632\n",
      "Epoch 12/15\n",
      "625/625 [==============================] - 60s 96ms/step - loss: 0.4774 - accuracy: 0.8319 - val_loss: 0.6290 - val_accuracy: 0.7892\n",
      "Epoch 13/15\n",
      "625/625 [==============================] - 59s 95ms/step - loss: 0.4422 - accuracy: 0.8445 - val_loss: 0.6892 - val_accuracy: 0.7776\n",
      "Epoch 14/15\n",
      "625/625 [==============================] - 59s 95ms/step - loss: 0.4137 - accuracy: 0.8556 - val_loss: 0.6461 - val_accuracy: 0.7884\n",
      "Epoch 15/15\n",
      "625/625 [==============================] - 60s 95ms/step - loss: 0.3782 - accuracy: 0.8666 - val_loss: 0.6826 - val_accuracy: 0.7799\n"
     ]
    },
    {
     "data": {
      "text/plain": [
       "<keras.callbacks.History at 0x188de1448e0>"
      ]
     },
     "execution_count": 9,
     "metadata": {},
     "output_type": "execute_result"
    }
   ],
   "source": [
    "model.fit(X_train, y_train, batch_size = 64, epochs=15, validation_split = 0.2)"
   ]
  },
  {
   "cell_type": "code",
   "execution_count": 10,
   "id": "e59cc341-7292-40d3-bd28-abc3a76133d3",
   "metadata": {
    "tags": []
   },
   "outputs": [
    {
     "name": "stdout",
     "output_type": "stream",
     "text": [
      "313/313 [==============================] - 3s 10ms/step - loss: 0.7174 - accuracy: 0.7720\n",
      "[0.7174496054649353, 0.7720000147819519]\n"
     ]
    }
   ],
   "source": [
    "print(model.evaluate(X_test, y_test))"
   ]
  },
  {
   "cell_type": "markdown",
   "id": "04a630ed-8ca5-4f11-a8d8-9912dd43eaba",
   "metadata": {},
   "source": [
    "## ШУмы и тд"
   ]
  },
  {
   "cell_type": "code",
   "execution_count": 11,
   "id": "732949d1-7e38-4e42-8df8-2e5f07473ddc",
   "metadata": {
    "tags": []
   },
   "outputs": [],
   "source": [
    "import numpy as np\n",
    "\n",
    "def add_noise(img, scale):\n",
    "    '''Add random noise to an image'''\n",
    "    noise = np.random.normal(loc=0, scale=scale, size=img.shape)\n",
    "    img = img + noise\n",
    "    img = np.clip(img, 0., 1.)\n",
    "    return img\n",
    "\n",
    "# Create a new generator\n",
    "def image_generator_with_noise(images, labels, batch_size, scale=0.1):\n",
    "    images = images.copy()\n",
    "    labels = labels.copy()\n",
    "    num_samples = len(images)\n",
    "    while True:\n",
    "        for offset in range(0, num_samples, batch_size):\n",
    "            batch_images = images[offset:offset+batch_size]\n",
    "            batch_labels = labels[offset:offset+batch_size]\n",
    "            \n",
    "            # Add noise to the images\n",
    "            batch_images_noisy = np.array([add_noise(img, scale) for img in batch_images])\n",
    "\n",
    "            yield batch_images_noisy, batch_labels\n",
    "\n",
    "# Use the new generator\n",
    "batch_size = 64\n",
    "test_generator_noisy = image_generator_with_noise(X_test, y_test, batch_size)"
   ]
  },
  {
   "cell_type": "code",
   "execution_count": 12,
   "id": "8ecc5b24-2468-4cac-80aa-71b5049ef183",
   "metadata": {
    "tags": []
   },
   "outputs": [
    {
     "name": "stdout",
     "output_type": "stream",
     "text": [
      "156/156 [==============================] - 3s 20ms/step - loss: 1.8455 - accuracy: 0.5095\n",
      "Test accuracy: 50.95152258872986\n"
     ]
    }
   ],
   "source": [
    "steps = X_test.shape[0] // batch_size\n",
    "loss, acc = model.evaluate(test_generator_noisy, steps=steps)\n",
    "print(f\"Test accuracy: {acc*100}\")"
   ]
  },
  {
   "cell_type": "code",
   "execution_count": 13,
   "id": "e5bbc015-8441-4357-8a28-9ebee4b40180",
   "metadata": {
    "tags": []
   },
   "outputs": [
    {
     "data": {
      "image/png": "[encoded data removed]",
      "text/plain": [
       "<Figure size 640x480 with 1 Axes>"
      ]
     },
     "metadata": {},
     "output_type": "display_data"
    }
   ],
   "source": [
    "images_with_noise, labels = next(test_generator_noisy)\n",
    "\n",
    "# Вывести первое изображение из батча\n",
    "plt.imshow(images_with_noise[0])\n",
    "plt.show()"
   ]
  },
  {
   "cell_type": "markdown",
   "id": "fdf7d8dc-d836-48b8-af73-a38f55410256",
   "metadata": {},
   "source": [
    "## Coloring noise"
   ]
  },
  {
   "cell_type": "code",
   "execution_count": 14,
   "id": "08365a24-4060-462c-b291-39e7771735a3",
   "metadata": {
    "tags": []
   },
   "outputs": [],
   "source": [
    "def add_color_noise(img, scale=0.1):\n",
    "    '''Add random noise to each color channel of an image'''\n",
    "    noise_r = np.random.normal(loc=0, scale=scale, size=img[..., 0].shape)\n",
    "    noise_g = np.random.normal(loc=0, scale=scale, size=img[..., 1].shape)\n",
    "    noise_b = np.random.normal(loc=0, scale=scale, size=img[..., 2].shape)\n",
    "    \n",
    "    img[..., 0] = img[..., 0] + noise_r\n",
    "    img[..., 1] = img[..., 1] + noise_g\n",
    "    img[..., 2] = img[..., 2] + noise_b\n",
    "    \n",
    "    img = np.clip(img, 0., 1.)\n",
    "    return img\n",
    "\n",
    "# Create a new generator\n",
    "def image_generator_with_color_noise(images, labels, batch_size, scale=0.1):\n",
    "    images = images.copy()\n",
    "    labels = labels.copy()\n",
    "    num_samples = len(images)\n",
    "    while True:\n",
    "        for offset in range(0, num_samples, batch_size):\n",
    "            batch_images = images[offset:offset+batch_size]\n",
    "            batch_labels = labels[offset:offset+batch_size]\n",
    "            \n",
    "            # Add noise to the images\n",
    "            batch_images_noisy = np.array([add_color_noise(img, scale) for img in batch_images])\n",
    "\n",
    "            yield batch_images_noisy, batch_labels\n",
    "\n",
    "# Use the new generator\n",
    "test_generator_color_noisy = image_generator_with_color_noise(X_test, y_test, batch_size)"
   ]
  },
  {
   "cell_type": "code",
   "execution_count": 15,
   "id": "b28fcd2d-0a89-47f2-a5a7-f7dd1899be79",
   "metadata": {
    "tags": []
   },
   "outputs": [
    {
     "name": "stdout",
     "output_type": "stream",
     "text": [
      "156/156 [==============================] - 3s 20ms/step - loss: 1.8172 - accuracy: 0.5068\n",
      "Test accuracy: 50.681090354919434\n"
     ]
    }
   ],
   "source": [
    "steps = X_test.shape[0] // batch_size\n",
    "loss, acc = model.evaluate(test_generator_color_noisy, steps=steps)\n",
    "print(f\"Test accuracy: {acc*100}\")"
   ]
  },
  {
   "cell_type": "code",
   "execution_count": 16,
   "id": "d392192a-0f23-4f6b-a1b7-c142d713a215",
   "metadata": {
    "tags": []
   },
   "outputs": [
    {
     "data": {
      "image/png": "[encoded data removed]",
      "text/plain": [
       "<Figure size 640x480 with 1 Axes>"
      ]
     },
     "metadata": {},
     "output_type": "display_data"
    }
   ],
   "source": [
    "# Получить один батч изображений с шумом\n",
    "images_with_color_noise, labels = next(test_generator_color_noisy)\n",
    "\n",
    "# Вывести первое изображение из батча\n",
    "plt.imshow(images_with_color_noise[0])\n",
    "plt.show()"
   ]
  },
  {
   "cell_type": "markdown",
   "id": "24f9bd7f-a53f-462f-a59d-8fee7ebe552a",
   "metadata": {},
   "source": [
    "## Снег"
   ]
  },
  {
   "cell_type": "code",
   "execution_count": 17,
   "id": "6f7460bb-6434-4718-9d0c-027a07955c5c",
   "metadata": {
    "tags": []
   },
   "outputs": [],
   "source": [
    "def add_snow_effect(img, high):\n",
    "    '''Add snow effect to an image'''\n",
    "    snow_layer = np.random.poisson(lam=10., size=img.shape)\n",
    "    snow_layer = snow_layer * np.random.randint(low=0, high=high, size=img.shape)\n",
    "    snow_layer[snow_layer < 240] = 0\n",
    "\n",
    "    img = img + snow_layer\n",
    "    img = np.clip(img, 0., 1.)\n",
    "    return img\n",
    "\n",
    "# Create a new generator\n",
    "def image_generator_with_snow(images, labels, batch_size, high=10):\n",
    "    images = images.copy()\n",
    "    labels = labels.copy()\n",
    "    num_samples = len(images)\n",
    "    while True:\n",
    "        for offset in range(0, num_samples, batch_size):\n",
    "            batch_images = images[offset:offset+batch_size]\n",
    "            batch_labels = labels[offset:offset+batch_size]\n",
    "            \n",
    "            # Add snow to the images\n",
    "            batch_images_snowy = np.array([add_snow_effect(img, high) for img in batch_images])\n",
    "\n",
    "            yield batch_images_snowy, batch_labels\n",
    "\n",
    "# Use the new generator\n",
    "test_generator_snowy = image_generator_with_snow(X_test, y_test, batch_size, 10)"
   ]
  },
  {
   "cell_type": "code",
   "execution_count": 18,
   "id": "6cb4a8ef-dfe4-42ef-a68d-7f0a202657e6",
   "metadata": {
    "tags": []
   },
   "outputs": [
    {
     "name": "stdout",
     "output_type": "stream",
     "text": [
      "156/156 [==============================] - 5s 33ms/step - loss: 0.7174 - accuracy: 0.7720\n",
      "Test accuracy: 77.20352411270142\n"
     ]
    }
   ],
   "source": [
    "steps = X_test.shape[0] // batch_size\n",
    "loss, acc = model.evaluate(test_generator_snowy, steps=steps)\n",
    "print(f\"Test accuracy: {acc*100}\")"
   ]
  },
  {
   "cell_type": "code",
   "execution_count": 19,
   "id": "a0c04b31-75fd-4b69-9fe3-3da7ad3eb3d3",
   "metadata": {
    "tags": []
   },
   "outputs": [
    {
     "data": {
      "image/png": "[encoded data removed]",
      "text/plain": [
       "<Figure size 640x480 with 1 Axes>"
      ]
     },
     "metadata": {},
     "output_type": "display_data"
    }
   ],
   "source": [
    "# Получить один батч изображений со снегом\n",
    "images_with_snow, labels = next(test_generator_snowy)\n",
    "\n",
    "# Вывести первое изображение из батча\n",
    "plt.imshow(images_with_snow[0])\n",
    "plt.show()"
   ]
  },
  {
   "cell_type": "markdown",
   "id": "ca03e2ed-f689-488f-9894-67c91cd6a28d",
   "metadata": {},
   "source": [
    "## Поворот на 30 градусов"
   ]
  },
  {
   "cell_type": "code",
   "execution_count": 20,
   "id": "bdc48168-2e6a-4bf2-897b-cd46868f6164",
   "metadata": {
    "tags": []
   },
   "outputs": [],
   "source": [
    "from scipy.ndimage import rotate\n",
    "\n",
    "def rotate_image(img, angle):\n",
    "    '''Rotate an image by a certain angle'''\n",
    "    img = rotate(img, angle=angle, reshape=False)\n",
    "    return img\n",
    "\n",
    "# Create a new generator\n",
    "def image_generator_rotated(images, labels, batch_size, angle):\n",
    "    images = images.copy()\n",
    "    labels = labels.copy()\n",
    "    num_samples = len(images)\n",
    "    while True:\n",
    "        for offset in range(0, num_samples, batch_size):\n",
    "            batch_images = images[offset:offset+batch_size]\n",
    "            batch_labels = labels[offset:offset+batch_size]\n",
    "            \n",
    "            # Rotate the images\n",
    "            batch_images_rotated = np.array([rotate_image(img, angle) for img in batch_images])\n",
    "\n",
    "            yield batch_images_rotated, batch_labels\n",
    "\n",
    "# Use the new generator with 30 degree rotation\n",
    "test_generator_rotated = image_generator_rotated(X_test, y_test, batch_size, 30)"
   ]
  },
  {
   "cell_type": "code",
   "execution_count": 21,
   "id": "8fc87df4-dea3-4be8-9a5b-096b9eb43af2",
   "metadata": {
    "tags": []
   },
   "outputs": [
    {
     "name": "stdout",
     "output_type": "stream",
     "text": [
      "156/156 [==============================] - 6s 37ms/step - loss: 2.3149 - accuracy: 0.3895\n",
      "Test accuracy: 38.95232379436493\n"
     ]
    }
   ],
   "source": [
    "steps = X_test.shape[0] // batch_size\n",
    "loss, acc = model.evaluate(test_generator_rotated, steps=steps)\n",
    "print(f\"Test accuracy: {acc*100}\")"
   ]
  },
  {
   "cell_type": "code",
   "execution_count": 22,
   "id": "464aaa50-0d4c-4c21-93e5-c0d0426648d7",
   "metadata": {
    "tags": []
   },
   "outputs": [
    {
     "name": "stderr",
     "output_type": "stream",
     "text": [
      "Clipping input data to the valid range for imshow with RGB data ([0..1] for floats or [0..255] for integers).\n"
     ]
    },
    {
     "data": {
      "image/png": "[encoded data removed]",
      "text/plain": [
       "<Figure size 640x480 with 1 Axes>"
      ]
     },
     "metadata": {},
     "output_type": "display_data"
    }
   ],
   "source": [
    "# Получить один батч изображений с поворотом\n",
    "images_rotated, labels = next(test_generator_rotated)\n",
    "\n",
    "# Вывести первое изображение из батча\n",
    "plt.imshow(images_rotated[0])\n",
    "plt.show()"
   ]
  },
  {
   "cell_type": "markdown",
   "id": "39b3685a-1f14-4082-a380-0c6023c06b91",
   "metadata": {},
   "source": [
    "## Графики"
   ]
  },
  {
   "cell_type": "markdown",
   "id": "a71859ab-590e-46d6-b1fa-2da53c435336",
   "metadata": {
    "tags": []
   },
   "source": [
    "## Шум (белый)"
   ]
  },
  {
   "cell_type": "code",
   "execution_count": 23,
   "id": "ecf35f93-da7e-48a1-8909-8e8fffb7ed97",
   "metadata": {
    "tags": []
   },
   "outputs": [],
   "source": [
    "def make_plot(scale_values, acc_values, name_plot):\n",
    "    plt.plot(scale_values, acc_values)\n",
    "    plt.title(name_plot)\n",
    "    plt.ylabel(\"Accuracy\")\n",
    "    plt.xlabel(\"Scale\");\n",
    "    \n",
    "    plt.locator_params (axis='x', nbins= len(scale_values))\n",
    "    plt.locator_params (axis='y', nbins= len(acc_values))"
   ]
  },
  {
   "cell_type": "code",
   "execution_count": 33,
   "id": "8cba4597-1593-4a29-8a4c-ec291e6fb8ac",
   "metadata": {
    "tags": []
   },
   "outputs": [
    {
     "name": "stdout",
     "output_type": "stream",
     "text": [
      "156/156 [==============================] - 4s 24ms/step - loss: 0.8624 - accuracy: 0.8164\n",
      "Test accuracy: 81.640625\n",
      "156/156 [==============================] - 4s 26ms/step - loss: 3.2630 - accuracy: 0.5503\n",
      "Test accuracy: 55.02804517745972\n",
      "156/156 [==============================] - 4s 28ms/step - loss: 6.0457 - accuracy: 0.3592\n",
      "Test accuracy: 35.91746687889099\n",
      "156/156 [==============================] - 4s 26ms/step - loss: 8.0593 - accuracy: 0.2518\n",
      "Test accuracy: 25.180289149284363\n",
      "156/156 [==============================] - 4s 26ms/step - loss: 9.4504 - accuracy: 0.1996\n",
      "Test accuracy: 19.961939752101898\n",
      "156/156 [==============================] - 4s 25ms/step - loss: 10.3823 - accuracy: 0.1732\n",
      "Test accuracy: 17.31770783662796\n",
      "156/156 [==============================] - 4s 25ms/step - loss: 10.9932 - accuracy: 0.1551\n",
      "Test accuracy: 15.51482379436493\n",
      "156/156 [==============================] - 4s 25ms/step - loss: 11.5546 - accuracy: 0.1475\n",
      "Test accuracy: 14.753605425357819\n",
      "156/156 [==============================] - 5s 32ms/step - loss: 11.8345 - accuracy: 0.1374\n",
      "Test accuracy: 13.741986453533173\n",
      "156/156 [==============================] - 4s 27ms/step - loss: 12.1726 - accuracy: 0.1303\n",
      "Test accuracy: 13.030849397182465\n"
     ]
    }
   ],
   "source": [
    "scale_values = []\n",
    "acc_values = []\n",
    "\n",
    "    \n",
    "while_scale = 0.1\n",
    "\n",
    "while while_scale <= 1:\n",
    "    scale_values.append(while_scale)\n",
    "    test_generator_noisy = image_generator_with_noise(X_test, y_test, batch_size, scale=while_scale)\n",
    "\n",
    "    steps = X_test.shape[0] // batch_size\n",
    "    loss, acc = model.evaluate(test_generator_noisy, steps=steps)\n",
    "    print(f\"Test accuracy: {acc*100}\")\n",
    "    \n",
    "    # Получить один батч изображений с шумом\n",
    "    #images_with_color_noise, labels = next(test_generator_color_noisy)\n",
    "\n",
    "    # Вывести первое изображение из батча\n",
    "   # plt.imshow(images_with_color_noise[0])\n",
    "   # plt.show()\n",
    "    acc_values.append(acc*100)\n",
    "    while_scale += 0.1\n",
    "    "
   ]
  },
  {
   "cell_type": "code",
   "execution_count": 35,
   "id": "41acdf79-23d6-48c0-b8f1-bfd1ebf7bb45",
   "metadata": {
    "tags": []
   },
   "outputs": [
    {
     "data": {
      "image/png": "[encoded data removed]",
      "text/plain": [
       "<Figure size 640x480 with 1 Axes>"
      ]
     },
     "metadata": {},
     "output_type": "display_data"
    }
   ],
   "source": [
    "make_plot(scale_values, acc_values, \"Зависимость accuracy от уровня белого шума\")"
   ]
  },
  {
   "cell_type": "markdown",
   "id": "6ed1571f-7e12-43cd-b7fd-a949856095f3",
   "metadata": {},
   "source": [
    "## Цветной шум "
   ]
  },
  {
   "cell_type": "code",
   "execution_count": 36,
   "id": "56f1b27c-31d8-46e3-b8b9-332742eafd11",
   "metadata": {
    "tags": []
   },
   "outputs": [
    {
     "name": "stdout",
     "output_type": "stream",
     "text": [
      "156/156 [==============================] - 4s 26ms/step - loss: 0.8305 - accuracy: 0.8234\n",
      "Test accuracy: 82.34174847602844\n",
      "156/156 [==============================] - 4s 25ms/step - loss: 3.2911 - accuracy: 0.5491\n",
      "Test accuracy: 54.90785241127014\n",
      "156/156 [==============================] - 4s 26ms/step - loss: 6.0495 - accuracy: 0.3527\n",
      "Test accuracy: 35.26642620563507\n",
      "156/156 [==============================] - 4s 26ms/step - loss: 8.1100 - accuracy: 0.2481\n",
      "Test accuracy: 24.809695780277252\n",
      "156/156 [==============================] - 4s 27ms/step - loss: 9.4674 - accuracy: 0.2003\n",
      "Test accuracy: 20.03205120563507\n",
      "156/156 [==============================] - 4s 27ms/step - loss: 10.4272 - accuracy: 0.1726\n",
      "Test accuracy: 17.257611453533173\n",
      "156/156 [==============================] - 5s 33ms/step - loss: 11.0997 - accuracy: 0.1540\n",
      "Test accuracy: 15.404647588729858\n",
      "156/156 [==============================] - 5s 30ms/step - loss: 11.4592 - accuracy: 0.1457\n",
      "Test accuracy: 14.573317766189575\n",
      "156/156 [==============================] - 4s 27ms/step - loss: 11.8865 - accuracy: 0.1437\n",
      "Test accuracy: 14.372996985912323\n",
      "156/156 [==============================] - 4s 28ms/step - loss: 12.1022 - accuracy: 0.1341\n",
      "Test accuracy: 13.41145783662796\n"
     ]
    }
   ],
   "source": [
    "scale_values = []\n",
    "acc_values = []\n",
    "\n",
    "    \n",
    "color_scale = 0.1\n",
    "\n",
    "while color_scale <= 1:\n",
    "    scale_values.append(color_scale)\n",
    "    test_generator_color_noisy = image_generator_with_color_noise(X_test, y_test, batch_size, scale=color_scale)\n",
    "    steps = X_test.shape[0] // batch_size\n",
    "    loss, acc = model.evaluate(test_generator_color_noisy, steps=steps)\n",
    "    print(f\"Test accuracy: {acc*100}\")\n",
    "    \n",
    "    acc_values.append(acc*100)\n",
    "    color_scale += 0.1\n",
    "    "
   ]
  },
  {
   "cell_type": "code",
   "execution_count": 37,
   "id": "f1f1d8e7-dbc5-42c5-afb2-899d8c198ee2",
   "metadata": {
    "tags": []
   },
   "outputs": [
    {
     "data": {
      "image/png": "[encoded data removed]",
      "text/plain": [
       "<Figure size 640x480 with 1 Axes>"
      ]
     },
     "metadata": {},
     "output_type": "display_data"
    }
   ],
   "source": [
    "make_plot(scale_values, acc_values, \"Зависимость accuracy от цветного шума\")"
   ]
  },
  {
   "cell_type": "markdown",
   "id": "0a7108f6-6639-4b0f-a882-2f02f4f10a83",
   "metadata": {},
   "source": [
    "## Снег"
   ]
  },
  {
   "cell_type": "code",
   "execution_count": 38,
   "id": "9d9c4061-050f-42db-9dde-034d878cf4ab",
   "metadata": {
    "tags": []
   },
   "outputs": [
    {
     "name": "stdout",
     "output_type": "stream",
     "text": [
      "156/156 [==============================] - 7s 42ms/step - loss: 0.1782 - accuracy: 0.9480\n",
      "Test accuracy: 94.80168223381042\n",
      "156/156 [==============================] - 6s 37ms/step - loss: 0.1993 - accuracy: 0.9409\n",
      "Test accuracy: 94.09054517745972\n",
      "156/156 [==============================] - 7s 44ms/step - loss: 2.5383 - accuracy: 0.6364\n",
      "Test accuracy: 63.641828298568726\n",
      "156/156 [==============================] - 8s 50ms/step - loss: 5.2999 - accuracy: 0.4230\n",
      "Test accuracy: 42.29767620563507\n",
      "156/156 [==============================] - 7s 45ms/step - loss: 6.2582 - accuracy: 0.3518\n",
      "Test accuracy: 35.17628312110901\n",
      "156/156 [==============================] - 8s 48ms/step - loss: 6.3614 - accuracy: 0.3091\n",
      "Test accuracy: 30.909454822540283\n",
      "156/156 [==============================] - 7s 45ms/step - loss: 6.3102 - accuracy: 0.2823\n",
      "Test accuracy: 28.225159645080566\n",
      "156/156 [==============================] - 7s 45ms/step - loss: 6.2104 - accuracy: 0.2629\n",
      "Test accuracy: 26.292067766189575\n",
      "156/156 [==============================] - 6s 38ms/step - loss: 6.0761 - accuracy: 0.2481\n",
      "Test accuracy: 24.809695780277252\n",
      "156/156 [==============================] - 6s 39ms/step - loss: 5.9216 - accuracy: 0.2390\n",
      "Test accuracy: 23.898236453533173\n"
     ]
    }
   ],
   "source": [
    "scale_values = []\n",
    "acc_values = []\n",
    "\n",
    "    \n",
    "snowy=5\n",
    "\n",
    "while snowy <= 100:\n",
    "    test_generator_snowy = image_generator_with_snow(X_test, y_test, batch_size, snowy)\n",
    "    steps = X_test.shape[0] // batch_size\n",
    "    loss, acc = model.evaluate(test_generator_snowy, steps=steps)\n",
    "    print(f\"Test accuracy: {acc*100}\")\n",
    "    \n",
    "    scale_values.append(snowy)\n",
    "    acc_values.append(acc*100)\n",
    "    snowy += 10"
   ]
  },
  {
   "cell_type": "code",
   "execution_count": 39,
   "id": "4d0291e7-0c28-476b-ab19-683c2faf9a20",
   "metadata": {
    "tags": []
   },
   "outputs": [
    {
     "data": {
      "image/png": "[encoded data removed]",
      "text/plain": [
       "<Figure size 640x480 with 1 Axes>"
      ]
     },
     "metadata": {},
     "output_type": "display_data"
    }
   ],
   "source": [
    "make_plot(scale_values, acc_values, \"Зависимость accuracy от снега\")"
   ]
  },
  {
   "cell_type": "markdown",
   "id": "746a6ab7-5b6e-48ec-b7fc-54bd24d75a6a",
   "metadata": {},
   "source": [
    "## Rotation"
   ]
  },
  {
   "cell_type": "code",
   "execution_count": 40,
   "id": "c5c146f4-06e1-47d8-b231-55757e4e01dd",
   "metadata": {
    "tags": []
   },
   "outputs": [
    {
     "name": "stdout",
     "output_type": "stream",
     "text": [
      "156/156 [==============================] - 7s 44ms/step - loss: 0.1782 - accuracy: 0.9480\n",
      "Test accuracy: 94.80168223381042\n",
      "156/156 [==============================] - 7s 48ms/step - loss: 0.3584 - accuracy: 0.9026\n",
      "Test accuracy: 90.26442170143127\n",
      "156/156 [==============================] - 6s 41ms/step - loss: 2.2515 - accuracy: 0.6333\n",
      "Test accuracy: 63.33132982254028\n",
      "156/156 [==============================] - 6s 41ms/step - loss: 4.7488 - accuracy: 0.4406\n",
      "Test accuracy: 44.060495495796204\n",
      "156/156 [==============================] - 7s 46ms/step - loss: 7.4095 - accuracy: 0.3150\n",
      "Test accuracy: 31.500402092933655\n",
      "156/156 [==============================] - 7s 46ms/step - loss: 8.6729 - accuracy: 0.2584\n",
      "Test accuracy: 25.841346383094788\n",
      "156/156 [==============================] - 7s 43ms/step - loss: 7.7398 - accuracy: 0.2498\n",
      "Test accuracy: 24.97996836900711\n",
      "156/156 [==============================] - 6s 41ms/step - loss: 7.7483 - accuracy: 0.2409\n",
      "Test accuracy: 24.08854216337204\n",
      "156/156 [==============================] - 7s 45ms/step - loss: 7.2558 - accuracy: 0.2606\n",
      "Test accuracy: 26.06169879436493\n",
      "156/156 [==============================] - 8s 50ms/step - loss: 7.3512 - accuracy: 0.2706\n",
      "Test accuracy: 27.06330120563507\n",
      "156/156 [==============================] - 7s 42ms/step - loss: 7.5734 - accuracy: 0.2470\n",
      "Test accuracy: 24.69951957464218\n",
      "156/156 [==============================] - 7s 43ms/step - loss: 8.8087 - accuracy: 0.2038\n",
      "Test accuracy: 20.382611453533173\n",
      "156/156 [==============================] - 7s 45ms/step - loss: 9.9142 - accuracy: 0.1836\n",
      "Test accuracy: 18.359375\n",
      "156/156 [==============================] - 7s 45ms/step - loss: 10.3921 - accuracy: 0.1824\n",
      "Test accuracy: 18.239182233810425\n",
      "156/156 [==============================] - 8s 51ms/step - loss: 9.9801 - accuracy: 0.1943\n",
      "Test accuracy: 19.431090354919434\n",
      "156/156 [==============================] - 9s 57ms/step - loss: 8.4832 - accuracy: 0.2255\n",
      "Test accuracy: 22.54607379436493\n",
      "156/156 [==============================] - 8s 48ms/step - loss: 7.5395 - accuracy: 0.2371\n",
      "Test accuracy: 23.707932233810425\n",
      "156/156 [==============================] - 8s 50ms/step - loss: 6.3870 - accuracy: 0.2825\n",
      "Test accuracy: 28.245192766189575\n",
      "156/156 [==============================] - 9s 60ms/step - loss: 6.3284 - accuracy: 0.3127\n",
      "Test accuracy: 31.27003312110901\n"
     ]
    }
   ],
   "source": [
    "scale_values = []\n",
    "acc_values = []\n",
    "\n",
    "rotation = 0\n",
    "\n",
    "while rotation <= 180:\n",
    "    test_generator_rotated = image_generator_rotated(X_test, y_test, batch_size, rotation)\n",
    "\n",
    "    steps = X_test.shape[0] // batch_size\n",
    "    loss, acc = model.evaluate(test_generator_rotated, steps=steps)\n",
    "    print(f\"Test accuracy: {acc*100}\")\n",
    "    acc_values.append(acc*100)\n",
    "    scale_values.append(rotation)\n",
    "    rotation += 10"
   ]
  },
  {
   "cell_type": "code",
   "execution_count": 41,
   "id": "f7111519-37c3-4d35-8eae-81d71e956788",
   "metadata": {
    "tags": []
   },
   "outputs": [
    {
     "data": {
      "image/png": "[encoded data removed]",
      "text/plain": [
       "<Figure size 640x480 with 1 Axes>"
      ]
     },
     "metadata": {},
     "output_type": "display_data"
    }
   ],
   "source": [
    "make_plot(scale_values, acc_values, \"Зависимость accuracy от поворота\")"
   ]
  },
  {
   "cell_type": "markdown",
   "id": "c13e47bb-9016-49b8-885b-9296be91cf2b",
   "metadata": {
    "tags": []
   },
   "source": [
    "# Дообучение"
   ]
  },
  {
   "cell_type": "markdown",
   "id": "4634d9bc-40f1-4ccc-8f6d-940a5dba54c0",
   "metadata": {},
   "source": [
    "### Белый шум"
   ]
  },
  {
   "cell_type": "code",
   "execution_count": 24,
   "id": "463b350a-7be1-4505-be9d-075a0cb83899",
   "metadata": {
    "tags": []
   },
   "outputs": [
    {
     "name": "stdout",
     "output_type": "stream",
     "text": [
      "Epoch 1/5\n",
      "781/781 [==============================] - 76s 96ms/step - loss: 0.7328 - accuracy: 0.7460\n",
      "Epoch 2/5\n",
      "781/781 [==============================] - 72s 92ms/step - loss: 0.6546 - accuracy: 0.7699\n",
      "Epoch 3/5\n",
      "781/781 [==============================] - 72s 92ms/step - loss: 0.6355 - accuracy: 0.7806\n",
      "Epoch 4/5\n",
      "781/781 [==============================] - 72s 93ms/step - loss: 0.6179 - accuracy: 0.7853\n",
      "Epoch 5/5\n",
      "781/781 [==============================] - 71s 91ms/step - loss: 0.5920 - accuracy: 0.7923\n",
      "156/156 [==============================] - 3s 21ms/step - loss: 0.7938 - accuracy: 0.7359\n",
      "Test accuracy: 73.58773946762085\n",
      "Epoch 1/5\n",
      "781/781 [==============================] - 72s 92ms/step - loss: 0.5763 - accuracy: 0.7991\n",
      "Epoch 2/5\n",
      "781/781 [==============================] - 72s 92ms/step - loss: 0.5625 - accuracy: 0.8044\n",
      "Epoch 3/5\n",
      "781/781 [==============================] - 73s 93ms/step - loss: 0.5489 - accuracy: 0.8073\n",
      "Epoch 4/5\n",
      "781/781 [==============================] - 74s 94ms/step - loss: 0.5389 - accuracy: 0.8112\n",
      "Epoch 5/5\n",
      "781/781 [==============================] - 75s 96ms/step - loss: 0.5192 - accuracy: 0.8188\n",
      "156/156 [==============================] - 3s 22ms/step - loss: 6.9272 - accuracy: 0.1408\n",
      "Test accuracy: 14.08253163099289\n"
     ]
    }
   ],
   "source": [
    "scale_values = []\n",
    "acc_values = []\n",
    "\n",
    "    \n",
    "while_scale = 0.1\n",
    "\n",
    "while while_scale <= 0.6:\n",
    "    scale_values.append(while_scale)\n",
    "    test_generator_noisy = image_generator_with_noise(X_test, y_test, batch_size, scale=while_scale)\n",
    "    \n",
    "    # дообучение \n",
    "    train_generator_noisy = image_generator_with_noise(X_train, y_train, batch_size)\n",
    "    steps_per_epoch = X_train.shape[0] // batch_size\n",
    "    model.fit(train_generator_noisy, steps_per_epoch=steps_per_epoch, epochs=5)\n",
    "\n",
    "    steps = X_test.shape[0] // batch_size\n",
    "    loss, acc = model.evaluate(test_generator_noisy, steps=steps)\n",
    "    print(f\"Test accuracy: {acc*100}\")\n",
    "    \n",
    "    acc_values.append(acc*100)\n",
    "    while_scale += 0.5"
   ]
  },
  {
   "cell_type": "code",
   "execution_count": 25,
   "id": "f3971b57-340b-4c90-a263-05ac0e2c5bb3",
   "metadata": {
    "tags": []
   },
   "outputs": [
    {
     "data": {
      "image/png": "[encoded data removed]",
      "text/plain": [
       "<Figure size 640x480 with 1 Axes>"
      ]
     },
     "metadata": {},
     "output_type": "display_data"
    }
   ],
   "source": [
    "make_plot(scale_values, acc_values, \"Зависимость accuracy от уровня белого шума [после дообучения]\")"
   ]
  },
  {
   "cell_type": "markdown",
   "id": "b7f11a37-92ae-4092-8d8e-5e21ebe73b11",
   "metadata": {},
   "source": [
    "## Цветной шум"
   ]
  },
  {
   "cell_type": "code",
   "execution_count": 26,
   "id": "bb5e1817-8dc6-497a-aba2-154dce7d9136",
   "metadata": {
    "tags": []
   },
   "outputs": [
    {
     "name": "stdout",
     "output_type": "stream",
     "text": [
      "156/156 [==============================] - 3s 22ms/step - loss: 0.8494 - accuracy: 0.7304\n",
      "Epoch 1/5\n",
      "781/781 [==============================] - 72s 92ms/step - loss: 0.5070 - accuracy: 0.8204\n",
      "Epoch 2/5\n",
      "781/781 [==============================] - 73s 93ms/step - loss: 0.6091 - accuracy: 0.7861\n",
      "Epoch 3/5\n",
      "781/781 [==============================] - 73s 93ms/step - loss: 0.6755 - accuracy: 0.7616\n",
      "Epoch 4/5\n",
      "781/781 [==============================] - 73s 93ms/step - loss: 0.7315 - accuracy: 0.7407\n",
      "Epoch 5/5\n",
      "781/781 [==============================] - 73s 93ms/step - loss: 0.7758 - accuracy: 0.7241\n",
      "Test accuracy: 73.03686141967773\n",
      "156/156 [==============================] - 3s 21ms/step - loss: 3.2052 - accuracy: 0.2381\n",
      "Epoch 1/5\n",
      "781/781 [==============================] - 73s 93ms/step - loss: 0.5112 - accuracy: 0.8219\n",
      "Epoch 2/5\n",
      "781/781 [==============================] - 73s 94ms/step - loss: 0.5666 - accuracy: 0.7997\n",
      "Epoch 3/5\n",
      "781/781 [==============================] - 72s 92ms/step - loss: 0.6329 - accuracy: 0.7782\n",
      "Epoch 4/5\n",
      "781/781 [==============================] - 72s 92ms/step - loss: 0.6893 - accuracy: 0.7563\n",
      "Epoch 5/5\n",
      "781/781 [==============================] - 72s 93ms/step - loss: 0.7308 - accuracy: 0.7419\n",
      "Test accuracy: 23.80809336900711\n"
     ]
    }
   ],
   "source": [
    "scale_values = []\n",
    "acc_values = []\n",
    "\n",
    "    \n",
    "color_scale = 0.1\n",
    "\n",
    "while color_scale <= 0.6:\n",
    "    scale_values.append(color_scale)\n",
    "    test_generator_color_noisy = image_generator_with_color_noise(X_test, y_test, batch_size, scale=color_scale)\n",
    "    steps = X_test.shape[0] // batch_size\n",
    "    loss, acc = model.evaluate(test_generator_color_noisy, steps=steps)\n",
    "    \n",
    "     # дообучение\n",
    "    train_generator_noisy = image_generator_with_color_noise(X_train, y_train, batch_size)\n",
    "    steps_per_epoch = X_train.shape[0] // batch_size\n",
    "    model.fit(train_generator_noisy, steps_per_epoch=steps_per_epoch, epochs=5)\n",
    "    print(f\"Test accuracy: {acc*100}\")\n",
    "    \n",
    "    acc_values.append(acc*100)\n",
    "    color_scale += 0.5\n",
    "    "
   ]
  },
  {
   "cell_type": "code",
   "execution_count": 27,
   "id": "39713b29-732e-4512-88ba-4f66c9e96a9c",
   "metadata": {
    "tags": []
   },
   "outputs": [
    {
     "data": {
      "image/png": "[encoded data removed]",
      "text/plain": [
       "<Figure size 640x480 with 1 Axes>"
      ]
     },
     "metadata": {},
     "output_type": "display_data"
    }
   ],
   "source": [
    "make_plot(scale_values, acc_values, \"Зависимость accuracy от уровня цветного шума [после дообучения]\")"
   ]
  },
  {
   "cell_type": "markdown",
   "id": "caac4b88-e4e5-417e-80de-f298b64d46d8",
   "metadata": {},
   "source": [
    "## Снег дообучение"
   ]
  },
  {
   "cell_type": "code",
   "execution_count": 28,
   "id": "b4dd12a4-6458-492a-83f0-7e2e2054fe36",
   "metadata": {},
   "outputs": [
    {
     "name": "stdout",
     "output_type": "stream",
     "text": [
      "Epoch 1/5\n",
      "781/781 [==============================] - 73s 93ms/step - loss: 0.4936 - accuracy: 0.8311\n",
      "Epoch 2/5\n",
      "781/781 [==============================] - 73s 93ms/step - loss: 0.2140 - accuracy: 0.9256\n",
      "Epoch 3/5\n",
      "781/781 [==============================] - 75s 95ms/step - loss: 0.1196 - accuracy: 0.9599\n",
      "Epoch 4/5\n",
      "781/781 [==============================] - 115s 148ms/step - loss: 0.0744 - accuracy: 0.9755\n",
      "Epoch 5/5\n",
      "781/781 [==============================] - 125s 161ms/step - loss: 0.0612 - accuracy: 0.9801\n",
      "156/156 [==============================] - 14s 88ms/step - loss: 0.0506 - accuracy: 0.9833\n",
      "Test accuracy: 98.32930564880371\n",
      "Epoch 1/5\n",
      "781/781 [==============================] - 106s 135ms/step - loss: 1.7321 - accuracy: 0.3848\n",
      "Epoch 2/5\n",
      "781/781 [==============================] - 74s 94ms/step - loss: 1.4813 - accuracy: 0.4704\n",
      "Epoch 3/5\n",
      "781/781 [==============================] - 80s 103ms/step - loss: 1.3796 - accuracy: 0.5060\n",
      "Epoch 4/5\n",
      "781/781 [==============================] - 73s 93ms/step - loss: 1.3226 - accuracy: 0.5283\n",
      "Epoch 5/5\n",
      "781/781 [==============================] - 71s 91ms/step - loss: 1.2561 - accuracy: 0.5542\n",
      "156/156 [==============================] - 5s 33ms/step - loss: 1.1767 - accuracy: 0.5752\n",
      "Test accuracy: 57.51811861991882\n"
     ]
    }
   ],
   "source": [
    "scale_values = []\n",
    "acc_values = []\n",
    "\n",
    "    \n",
    "snowy=5\n",
    "\n",
    "while snowy <= 60:\n",
    "    test_generator_snowy = image_generator_with_snow(X_test, y_test, batch_size, snowy)\n",
    "    steps = X_test.shape[0] // batch_size\n",
    "    \n",
    "    # дообучение\n",
    "    train_generator_noisy = image_generator_with_snow(X_train, y_train, batch_size, snowy)\n",
    "    steps_per_epoch = X_train.shape[0] // batch_size\n",
    "    model.fit(test_generator_snowy, steps_per_epoch=steps_per_epoch, epochs=5)\n",
    "    \n",
    "    \n",
    "    loss, acc = model.evaluate(test_generator_snowy, steps=steps)\n",
    "    print(f\"Test accuracy: {acc*100}\")\n",
    "    \n",
    "    scale_values.append(snowy)\n",
    "    acc_values.append(acc*100)\n",
    "    snowy += 50"
   ]
  },
  {
   "cell_type": "code",
   "execution_count": 29,
   "id": "4541cefe-dd6f-47ce-9cd0-1528335a5dbe",
   "metadata": {
    "tags": []
   },
   "outputs": [
    {
     "data": {
      "image/png": "[encoded data removed]",
      "text/plain": [
       "<Figure size 640x480 with 1 Axes>"
      ]
     },
     "metadata": {},
     "output_type": "display_data"
    }
   ],
   "source": [
    "make_plot(scale_values, acc_values, \"Зависимость accuracy от уровня снега[после дообучения]\") "
   ]
  },
  {
   "cell_type": "markdown",
   "id": "09bc72a6-7a5a-430c-a394-726bf6849068",
   "metadata": {},
   "source": [
    "## Rotation дообучение"
   ]
  },
  {
   "cell_type": "code",
   "execution_count": 30,
   "id": "1a0c2354-d33f-4d9e-a02b-8c16854fe660",
   "metadata": {
    "tags": []
   },
   "outputs": [
    {
     "name": "stdout",
     "output_type": "stream",
     "text": [
      "Epoch 1/5\n",
      "781/781 [==============================] - 77s 99ms/step - loss: 0.4014 - accuracy: 0.8595\n",
      "Epoch 2/5\n",
      "781/781 [==============================] - 79s 101ms/step - loss: 0.1190 - accuracy: 0.9595\n",
      "Epoch 3/5\n",
      "781/781 [==============================] - 85s 109ms/step - loss: 0.0724 - accuracy: 0.9777\n",
      "Epoch 4/5\n",
      "781/781 [==============================] - 78s 100ms/step - loss: 0.0526 - accuracy: 0.9837\n",
      "Epoch 5/5\n",
      "781/781 [==============================] - 77s 98ms/step - loss: 0.0424 - accuracy: 0.9859\n",
      "156/156 [==============================] - 6s 38ms/step - loss: 0.0494 - accuracy: 0.9847\n",
      "Test accuracy: 98.47021102905273\n"
     ]
    }
   ],
   "source": [
    "scale_values = []\n",
    "acc_values = []\n",
    "\n",
    "rotation = 5\n",
    "\n",
    "while rotation <= 5:\n",
    "    test_generator_rotated = image_generator_rotated(X_test, y_test, batch_size, rotation)\n",
    "\n",
    "    steps = X_test.shape[0] // batch_size\n",
    "    \n",
    "    train_generator_noisy = image_generator_rotated(X_train, y_train, batch_size, rotation)\n",
    "    steps_per_epoch = X_train.shape[0] // batch_size\n",
    "    model.fit(test_generator_rotated, steps_per_epoch=steps_per_epoch, epochs=5)\n",
    "    \n",
    "    loss, acc = model.evaluate(test_generator_rotated, steps=steps)\n",
    "    print(f\"Test accuracy: {acc*100}\")\n",
    "    acc_values.append(acc*100)\n",
    "    scale_values.append(rotation)\n",
    "    rotation += 90"
   ]
  },
  {
   "cell_type": "code",
   "execution_count": 31,
   "id": "235083cf-8f73-4ef3-8d48-72ebdbc12c4f",
   "metadata": {
    "tags": []
   },
   "outputs": [],
   "source": [
    "model.save_weights('after_dolearning_rnet.h5')"
   ]
  },
  {
   "cell_type": "code",
   "execution_count": null,
   "id": "066e5a47-dd14-49af-ab46-7376fa324df4",
   "metadata": {
    "tags": []
   },
   "outputs": [],
   "source": [
    "model.load_weights('rnet.h5')"
   ]
  },
  {
   "cell_type": "markdown",
   "id": "90d096d0-f3f9-4528-a7b8-79c79063bc60",
   "metadata": {},
   "source": [
    "## Шум + поворот"
   ]
  },
  {
   "cell_type": "code",
   "execution_count": 32,
   "id": "4c4ffc90-d8f3-44e0-b833-ad86b76da48a",
   "metadata": {},
   "outputs": [],
   "source": [
    "def image_generator_with_noise_and_rotation(images, labels, batch_size, scale=0.1, angle=30):\n",
    "    images = images.copy()\n",
    "    labels = labels.copy()\n",
    "    num_samples = len(images)\n",
    "    while True:\n",
    "        for offset in range(0, num_samples, batch_size):\n",
    "            batch_images = images[offset:offset+batch_size]\n",
    "            batch_labels = labels[offset:offset+batch_size]\n",
    "\n",
    "            # Add noise and rotate the images\n",
    "            batch_images_processed = np.array([rotate_image(add_noise(img, scale), angle) for img in batch_images])\n",
    "\n",
    "            yield batch_images_processed, batch_labels\n",
    "\n",
    "# Use the new generator\n",
    "test_generator_noisy_and_rotated = image_generator_with_noise_and_rotation(X_test, y_test, batch_size)"
   ]
  },
  {
   "cell_type": "code",
   "execution_count": 78,
   "id": "d16ceae2-6fde-4465-90e5-e4df55cfeb34",
   "metadata": {
    "tags": []
   },
   "outputs": [
    {
     "name": "stdout",
     "output_type": "stream",
     "text": [
      "156/156 [==============================] - 7s 43ms/step - loss: 0.2131 - accuracy: 0.9346\n",
      "Test accuracy: 93.45953464508057\n",
      "156/156 [==============================] - 7s 44ms/step - loss: 0.5357 - accuracy: 0.8626\n",
      "Test accuracy: 86.25801205635071\n",
      "156/156 [==============================] - 7s 45ms/step - loss: 1.1432 - accuracy: 0.7559\n",
      "Test accuracy: 75.59094429016113\n",
      "156/156 [==============================] - 7s 46ms/step - loss: 1.5722 - accuracy: 0.6928\n",
      "Test accuracy: 69.28085088729858\n",
      "156/156 [==============================] - 7s 45ms/step - loss: 4.8357 - accuracy: 0.3685\n",
      "Test accuracy: 36.84895932674408\n",
      "156/156 [==============================] - 7s 45ms/step - loss: 7.6997 - accuracy: 0.2041\n",
      "Test accuracy: 20.412659645080566\n",
      "156/156 [==============================] - 7s 45ms/step - loss: 8.0710 - accuracy: 0.1868\n",
      "Test accuracy: 18.679888546466827\n",
      "156/156 [==============================] - 7s 45ms/step - loss: 8.7948 - accuracy: 0.1556\n",
      "Test accuracy: 15.564903616905212\n",
      "156/156 [==============================] - 7s 45ms/step - loss: 10.1458 - accuracy: 0.1304\n",
      "Test accuracy: 13.040865957736969\n",
      "156/156 [==============================] - 7s 45ms/step - loss: 11.4401 - accuracy: 0.1297\n",
      "Test accuracy: 12.970753014087677\n",
      "156/156 [==============================] - 8s 48ms/step - loss: 14.0144 - accuracy: 0.1153\n",
      "Test accuracy: 11.528445780277252\n"
     ]
    }
   ],
   "source": [
    "scale_values = []\n",
    "rotation_values = []\n",
    "acc_values = []\n",
    "\n",
    "rotation_test_values = [30, 25, 20, 15, 10, 9, 8, 7, 5, 3, 2, 1]\n",
    "scale_test_values = [1, 0.9, 0.7, 0.8, 0.65, 0.55, 0.5, 0.3, 0.16, 0.14, 0.1, 0.05]\n",
    "\n",
    "\n",
    "rotation = rotation_test_values.pop()\n",
    "scale = scale_test_values.pop()\n",
    "\n",
    "tmp_value = 0\n",
    "\n",
    "while len(rotation_test_values) != 0:\n",
    "    test_generator_rotated = image_generator_with_noise_and_rotation(X_test, y_test, batch_size, scale, rotation)\n",
    "\n",
    "    steps = X_test.shape[0] // batch_size\n",
    "    \n",
    "    \n",
    "    loss, acc = model.evaluate(test_generator_rotated, steps=steps)\n",
    "    print(f\"Test accuracy: {acc*100}\")\n",
    "    acc_values.append(acc*100)\n",
    "    scale_values.append(scale)\n",
    "    rotation_values.append(rotation)\n",
    "    \n",
    "    rotation = rotation_test_values.pop()\n",
    "    scale = scale_test_values.pop()"
   ]
  },
  {
   "cell_type": "code",
   "execution_count": 33,
   "id": "1b4ca97d-1263-4a2d-bfbb-9fdea03ff2d5",
   "metadata": {
    "tags": []
   },
   "outputs": [],
   "source": [
    "model.save_weights('plus_rotation_after_dolearning_rnet.h5')"
   ]
  },
  {
   "cell_type": "code",
   "execution_count": 79,
   "id": "b1d74c95-5c35-418a-bfc0-aaf990ef355c",
   "metadata": {
    "tags": []
   },
   "outputs": [
    {
     "data": {
      "application/vnd.plotly.v1+json": {
       "config": {
        "plotlyServerURL": "https://plot.ly"
       },
       "data": [
        {
         "hovertemplate": "Поворот=%{x}<br>Шум=%{y}<br>Accuracy=%{z}<extra></extra>",
         "legendgroup": "",
         "line": {
          "color": "#636efa",
          "dash": "solid"
         },
         "marker": {
          "symbol": "circle"
         },
         "mode": "lines",
         "name": "",
         "scene": "scene",
         "showlegend": false,
         "type": "scatter3d",
         "x": [
          1,
          2,
          3,
          5,
          7,
          8,
          9,
          10,
          15,
          20,
          25
         ],
         "y": [
          0.05,
          0.1,
          0.14,
          0.16,
          0.3,
          0.5,
          0.55,
          0.65,
          0.8,
          0.7,
          0.9
         ],
         "z": [
          93.45953464508057,
          86.25801205635071,
          75.59094429016113,
          69.28085088729858,
          36.84895932674408,
          20.412659645080566,
          18.679888546466827,
          15.564903616905212,
          13.040865957736969,
          12.970753014087677,
          11.528445780277252
         ]
        }
       ],
       "layout": {
        "autosize": true,
        "legend": {
         "tracegroupgap": 0
        },
        "scene": {
         "aspectmode": "auto",
         "aspectratio": {
          "x": 1,
          "y": 1,
          "z": 1
         },
         "camera": {
          "center": {
           "x": 0,
           "y": 0,
           "z": 0
          },
          "eye": {
           "x": -1.8066514094463033,
           "y": 1.7136799729635668,
           "z": 0.5032853484882464
          },
          "projection": {
           "type": "perspective"
          },
          "up": {
           "x": 0,
           "y": 0,
           "z": 1
          }
         },
         "domain": {
          "x": [
           0,
           1
          ],
          "y": [
           0,
           1
          ]
         },
         "xaxis": {
          "title": {
           "text": "Поворот"
          },
          "type": "linear"
         },
         "yaxis": {
          "title": {
           "text": "Шум"
          },
          "type": "linear"
         },
         "zaxis": {
          "title": {
           "text": "Accuracy"
          },
          "type": "linear"
         }
        },
        "template": {
         "data": {
          "bar": [
           {
            "error_x": {
             "color": "#2a3f5f"
            },
            "error_y": {
             "color": "#2a3f5f"
            },
            "marker": {
             "line": {
              "color": "#E5ECF6",
              "width": 0.5
             },
             "pattern": {
              "fillmode": "overlay",
              "size": 10,
              "solidity": 0.2
             }
            },
            "type": "bar"
           }
          ],
          "barpolar": [
           {
            "marker": {
             "line": {
              "color": "#E5ECF6",
              "width": 0.5
             },
             "pattern": {
              "fillmode": "overlay",
              "size": 10,
              "solidity": 0.2
             }
            },
            "type": "barpolar"
           }
          ],
          "carpet": [
           {
            "aaxis": {
             "endlinecolor": "#2a3f5f",
             "gridcolor": "white",
             "linecolor": "white",
             "minorgridcolor": "white",
             "startlinecolor": "#2a3f5f"
            },
            "baxis": {
             "endlinecolor": "#2a3f5f",
             "gridcolor": "white",
             "linecolor": "white",
             "minorgridcolor": "white",
             "startlinecolor": "#2a3f5f"
            },
            "type": "carpet"
           }
          ],
          "choropleth": [
           {
            "colorbar": {
             "outlinewidth": 0,
             "ticks": ""
            },
            "type": "choropleth"
           }
          ],
          "contour": [
           {
            "colorbar": {
             "outlinewidth": 0,
             "ticks": ""
            },
            "colorscale": [
             [
              0,
              "#0d0887"
             ],
             [
              0.1111111111111111,
              "#46039f"
             ],
             [
              0.2222222222222222,
              "#7201a8"
             ],
             [
              0.3333333333333333,
              "#9c179e"
             ],
             [
              0.4444444444444444,
              "#bd3786"
             ],
             [
              0.5555555555555556,
              "#d8576b"
             ],
             [
              0.6666666666666666,
              "#ed7953"
             ],
             [
              0.7777777777777778,
              "#fb9f3a"
             ],
             [
              0.8888888888888888,
              "#fdca26"
             ],
             [
              1,
              "#f0f921"
             ]
            ],
            "type": "contour"
           }
          ],
          "contourcarpet": [
           {
            "colorbar": {
             "outlinewidth": 0,
             "ticks": ""
            },
            "type": "contourcarpet"
           }
          ],
          "heatmap": [
           {
            "colorbar": {
             "outlinewidth": 0,
             "ticks": ""
            },
            "colorscale": [
             [
              0,
              "#0d0887"
             ],
             [
              0.1111111111111111,
              "#46039f"
             ],
             [
              0.2222222222222222,
              "#7201a8"
             ],
             [
              0.3333333333333333,
              "#9c179e"
             ],
             [
              0.4444444444444444,
              "#bd3786"
             ],
             [
              0.5555555555555556,
              "#d8576b"
             ],
             [
              0.6666666666666666,
              "#ed7953"
             ],
             [
              0.7777777777777778,
              "#fb9f3a"
             ],
             [
              0.8888888888888888,
              "#fdca26"
             ],
             [
              1,
              "#f0f921"
             ]
            ],
            "type": "heatmap"
           }
          ],
          "heatmapgl": [
           {
            "colorbar": {
             "outlinewidth": 0,
             "ticks": ""
            },
            "colorscale": [
             [
              0,
              "#0d0887"
             ],
             [
              0.1111111111111111,
              "#46039f"
             ],
             [
              0.2222222222222222,
              "#7201a8"
             ],
             [
              0.3333333333333333,
              "#9c179e"
             ],
             [
              0.4444444444444444,
              "#bd3786"
             ],
             [
              0.5555555555555556,
              "#d8576b"
             ],
             [
              0.6666666666666666,
              "#ed7953"
             ],
             [
              0.7777777777777778,
              "#fb9f3a"
             ],
             [
              0.8888888888888888,
              "#fdca26"
             ],
             [
              1,
              "#f0f921"
             ]
            ],
            "type": "heatmapgl"
           }
          ],
          "histogram": [
           {
            "marker": {
             "pattern": {
              "fillmode": "overlay",
              "size": 10,
              "solidity": 0.2
             }
            },
            "type": "histogram"
           }
          ],
          "histogram2d": [
           {
            "colorbar": {
             "outlinewidth": 0,
             "ticks": ""
            },
            "colorscale": [
             [
              0,
              "#0d0887"
             ],
             [
              0.1111111111111111,
              "#46039f"
             ],
             [
              0.2222222222222222,
              "#7201a8"
             ],
             [
              0.3333333333333333,
              "#9c179e"
             ],
             [
              0.4444444444444444,
              "#bd3786"
             ],
             [
              0.5555555555555556,
              "#d8576b"
             ],
             [
              0.6666666666666666,
              "#ed7953"
             ],
             [
              0.7777777777777778,
              "#fb9f3a"
             ],
             [
              0.8888888888888888,
              "#fdca26"
             ],
             [
              1,
              "#f0f921"
             ]
            ],
            "type": "histogram2d"
           }
          ],
          "histogram2dcontour": [
           {
            "colorbar": {
             "outlinewidth": 0,
             "ticks": ""
            },
            "colorscale": [
             [
              0,
              "#0d0887"
             ],
             [
              0.1111111111111111,
              "#46039f"
             ],
             [
              0.2222222222222222,
              "#7201a8"
             ],
             [
              0.3333333333333333,
              "#9c179e"
             ],
             [
              0.4444444444444444,
              "#bd3786"
             ],
             [
              0.5555555555555556,
              "#d8576b"
             ],
             [
              0.6666666666666666,
              "#ed7953"
             ],
             [
              0.7777777777777778,
              "#fb9f3a"
             ],
             [
              0.8888888888888888,
              "#fdca26"
             ],
             [
              1,
              "#f0f921"
             ]
            ],
            "type": "histogram2dcontour"
           }
          ],
          "mesh3d": [
           {
            "colorbar": {
             "outlinewidth": 0,
             "ticks": ""
            },
            "type": "mesh3d"
           }
          ],
          "parcoords": [
           {
            "line": {
             "colorbar": {
              "outlinewidth": 0,
              "ticks": ""
             }
            },
            "type": "parcoords"
           }
          ],
          "pie": [
           {
            "automargin": true,
            "type": "pie"
           }
          ],
          "scatter": [
           {
            "fillpattern": {
             "fillmode": "overlay",
             "size": 10,
             "solidity": 0.2
            },
            "type": "scatter"
           }
          ],
          "scatter3d": [
           {
            "line": {
             "colorbar": {
              "outlinewidth": 0,
              "ticks": ""
             }
            },
            "marker": {
             "colorbar": {
              "outlinewidth": 0,
              "ticks": ""
             }
            },
            "type": "scatter3d"
           }
          ],
          "scattercarpet": [
           {
            "marker": {
             "colorbar": {
              "outlinewidth": 0,
              "ticks": ""
             }
            },
            "type": "scattercarpet"
           }
          ],
          "scattergeo": [
           {
            "marker": {
             "colorbar": {
              "outlinewidth": 0,
              "ticks": ""
             }
            },
            "type": "scattergeo"
           }
          ],
          "scattergl": [
           {
            "marker": {
             "colorbar": {
              "outlinewidth": 0,
              "ticks": ""
             }
            },
            "type": "scattergl"
           }
          ],
          "scattermapbox": [
           {
            "marker": {
             "colorbar": {
              "outlinewidth": 0,
              "ticks": ""
             }
            },
            "type": "scattermapbox"
           }
          ],
          "scatterpolar": [
           {
            "marker": {
             "colorbar": {
              "outlinewidth": 0,
              "ticks": ""
             }
            },
            "type": "scatterpolar"
           }
          ],
          "scatterpolargl": [
           {
            "marker": {
             "colorbar": {
              "outlinewidth": 0,
              "ticks": ""
             }
            },
            "type": "scatterpolargl"
           }
          ],
          "scatterternary": [
           {
            "marker": {
             "colorbar": {
              "outlinewidth": 0,
              "ticks": ""
             }
            },
            "type": "scatterternary"
           }
          ],
          "surface": [
           {
            "colorbar": {
             "outlinewidth": 0,
             "ticks": ""
            },
            "colorscale": [
             [
              0,
              "#0d0887"
             ],
             [
              0.1111111111111111,
              "#46039f"
             ],
             [
              0.2222222222222222,
              "#7201a8"
             ],
             [
              0.3333333333333333,
              "#9c179e"
             ],
             [
              0.4444444444444444,
              "#bd3786"
             ],
             [
              0.5555555555555556,
              "#d8576b"
             ],
             [
              0.6666666666666666,
              "#ed7953"
             ],
             [
              0.7777777777777778,
              "#fb9f3a"
             ],
             [
              0.8888888888888888,
              "#fdca26"
             ],
             [
              1,
              "#f0f921"
             ]
            ],
            "type": "surface"
           }
          ],
          "table": [
           {
            "cells": {
             "fill": {
              "color": "#EBF0F8"
             },
             "line": {
              "color": "white"
             }
            },
            "header": {
             "fill": {
              "color": "#C8D4E3"
             },
             "line": {
              "color": "white"
             }
            },
            "type": "table"
           }
          ]
         },
         "layout": {
          "annotationdefaults": {
           "arrowcolor": "#2a3f5f",
           "arrowhead": 0,
           "arrowwidth": 1
          },
          "autotypenumbers": "strict",
          "coloraxis": {
           "colorbar": {
            "outlinewidth": 0,
            "ticks": ""
           }
          },
          "colorscale": {
           "diverging": [
            [
             0,
             "#8e0152"
            ],
            [
             0.1,
             "#c51b7d"
            ],
            [
             0.2,
             "#de77ae"
            ],
            [
             0.3,
             "#f1b6da"
            ],
            [
             0.4,
             "#fde0ef"
            ],
            [
             0.5,
             "#f7f7f7"
            ],
            [
             0.6,
             "#e6f5d0"
            ],
            [
             0.7,
             "#b8e186"
            ],
            [
             0.8,
             "#7fbc41"
            ],
            [
             0.9,
             "#4d9221"
            ],
            [
             1,
             "#276419"
            ]
           ],
           "sequential": [
            [
             0,
             "#0d0887"
            ],
            [
             0.1111111111111111,
             "#46039f"
            ],
            [
             0.2222222222222222,
             "#7201a8"
            ],
            [
             0.3333333333333333,
             "#9c179e"
            ],
            [
             0.4444444444444444,
             "#bd3786"
            ],
            [
             0.5555555555555556,
             "#d8576b"
            ],
            [
             0.6666666666666666,
             "#ed7953"
            ],
            [
             0.7777777777777778,
             "#fb9f3a"
            ],
            [
             0.8888888888888888,
             "#fdca26"
            ],
            [
             1,
             "#f0f921"
            ]
           ],
           "sequentialminus": [
            [
             0,
             "#0d0887"
            ],
            [
             0.1111111111111111,
             "#46039f"
            ],
            [
             0.2222222222222222,
             "#7201a8"
            ],
            [
             0.3333333333333333,
             "#9c179e"
            ],
            [
             0.4444444444444444,
             "#bd3786"
            ],
            [
             0.5555555555555556,
             "#d8576b"
            ],
            [
             0.6666666666666666,
             "#ed7953"
            ],
            [
             0.7777777777777778,
             "#fb9f3a"
            ],
            [
             0.8888888888888888,
             "#fdca26"
            ],
            [
             1,
             "#f0f921"
            ]
           ]
          },
          "colorway": [
           "#636efa",
           "#EF553B",
           "#00cc96",
           "#ab63fa",
           "#FFA15A",
           "#19d3f3",
           "#FF6692",
           "#B6E880",
           "#FF97FF",
           "#FECB52"
          ],
          "font": {
           "color": "#2a3f5f"
          },
          "geo": {
           "bgcolor": "white",
           "lakecolor": "white",
           "landcolor": "#E5ECF6",
           "showlakes": true,
           "showland": true,
           "subunitcolor": "white"
          },
          "hoverlabel": {
           "align": "left"
          },
          "hovermode": "closest",
          "mapbox": {
           "style": "light"
          },
          "paper_bgcolor": "white",
          "plot_bgcolor": "#E5ECF6",
          "polar": {
           "angularaxis": {
            "gridcolor": "white",
            "linecolor": "white",
            "ticks": ""
           },
           "bgcolor": "#E5ECF6",
           "radialaxis": {
            "gridcolor": "white",
            "linecolor": "white",
            "ticks": ""
           }
          },
          "scene": {
           "xaxis": {
            "backgroundcolor": "#E5ECF6",
            "gridcolor": "white",
            "gridwidth": 2,
            "linecolor": "white",
            "showbackground": true,
            "ticks": "",
            "zerolinecolor": "white"
           },
           "yaxis": {
            "backgroundcolor": "#E5ECF6",
            "gridcolor": "white",
            "gridwidth": 2,
            "linecolor": "white",
            "showbackground": true,
            "ticks": "",
            "zerolinecolor": "white"
           },
           "zaxis": {
            "backgroundcolor": "#E5ECF6",
            "gridcolor": "white",
            "gridwidth": 2,
            "linecolor": "white",
            "showbackground": true,
            "ticks": "",
            "zerolinecolor": "white"
           }
          },
          "shapedefaults": {
           "line": {
            "color": "#2a3f5f"
           }
          },
          "ternary": {
           "aaxis": {
            "gridcolor": "white",
            "linecolor": "white",
            "ticks": ""
           },
           "baxis": {
            "gridcolor": "white",
            "linecolor": "white",
            "ticks": ""
           },
           "bgcolor": "#E5ECF6",
           "caxis": {
            "gridcolor": "white",
            "linecolor": "white",
            "ticks": ""
           }
          },
          "title": {
           "x": 0.05
          },
          "xaxis": {
           "automargin": true,
           "gridcolor": "white",
           "linecolor": "white",
           "ticks": "",
           "title": {
            "standoff": 15
           },
           "zerolinecolor": "white",
           "zerolinewidth": 2
          },
          "yaxis": {
           "automargin": true,
           "gridcolor": "white",
           "linecolor": "white",
           "ticks": "",
           "title": {
            "standoff": 15
           },
           "zerolinecolor": "white",
           "zerolinewidth": 2
          }
         }
        },
        "title": {
         "text": "График совмещения белого шума и поворота"
        }
       }
      },
      "image/png": "[encoded data removed]",
      "text/html": [
       "<div>                            <div id=\"1bd3a318-468a-4af0-a40a-c579e7ad04de\" class=\"plotly-graph-div\" style=\"height:525px; width:100%;\"></div>            <script type=\"text/javascript\">                require([\"plotly\"], function(Plotly) {                    window.PLOTLYENV=window.PLOTLYENV || {};                                    if (document.getElementById(\"1bd3a318-468a-4af0-a40a-c579e7ad04de\")) {                    Plotly.newPlot(                        \"1bd3a318-468a-4af0-a40a-c579e7ad04de\",                        [{\"hovertemplate\":\"\\u041f\\u043e\\u0432\\u043e\\u0440\\u043e\\u0442=%{x}<br>\\u0428\\u0443\\u043c=%{y}<br>Accuracy=%{z}<extra></extra>\",\"legendgroup\":\"\",\"line\":{\"color\":\"#636efa\",\"dash\":\"solid\"},\"marker\":{\"symbol\":\"circle\"},\"mode\":\"lines\",\"name\":\"\",\"scene\":\"scene\",\"showlegend\":false,\"x\":[1,2,3,5,7,8,9,10,15,20,25],\"y\":[0.05,0.1,0.14,0.16,0.3,0.5,0.55,0.65,0.8,0.7,0.9],\"z\":[93.45953464508057,86.25801205635071,75.59094429016113,69.28085088729858,36.84895932674408,20.412659645080566,18.679888546466827,15.564903616905212,13.040865957736969,12.970753014087677,11.528445780277252],\"type\":\"scatter3d\"}],                        {\"template\":{\"data\":{\"histogram2dcontour\":[{\"type\":\"histogram2dcontour\",\"colorbar\":{\"outlinewidth\":0,\"ticks\":\"\"},\"colorscale\":[[0.0,\"#0d0887\"],[0.1111111111111111,\"#46039f\"],[0.2222222222222222,\"#7201a8\"],[0.3333333333333333,\"#9c179e\"],[0.4444444444444444,\"#bd3786\"],[0.5555555555555556,\"#d8576b\"],[0.6666666666666666,\"#ed7953\"],[0.7777777777777778,\"#fb9f3a\"],[0.8888888888888888,\"#fdca26\"],[1.0,\"#f0f921\"]]}],\"choropleth\":[{\"type\":\"choropleth\",\"colorbar\":{\"outlinewidth\":0,\"ticks\":\"\"}}],\"histogram2d\":[{\"type\":\"histogram2d\",\"colorbar\":{\"outlinewidth\":0,\"ticks\":\"\"},\"colorscale\":[[0.0,\"#0d0887\"],[0.1111111111111111,\"#46039f\"],[0.2222222222222222,\"#7201a8\"],[0.3333333333333333,\"#9c179e\"],[0.4444444444444444,\"#bd3786\"],[0.5555555555555556,\"#d8576b\"],[0.6666666666666666,\"#ed7953\"],[0.7777777777777778,\"#fb9f3a\"],[0.8888888888888888,\"#fdca26\"],[1.0,\"#f0f921\"]]}],\"heatmap\":[{\"type\":\"heatmap\",\"colorbar\":{\"outlinewidth\":0,\"ticks\":\"\"},\"colorscale\":[[0.0,\"#0d0887\"],[0.1111111111111111,\"#46039f\"],[0.2222222222222222,\"#7201a8\"],[0.3333333333333333,\"#9c179e\"],[0.4444444444444444,\"#bd3786\"],[0.5555555555555556,\"#d8576b\"],[0.6666666666666666,\"#ed7953\"],[0.7777777777777778,\"#fb9f3a\"],[0.8888888888888888,\"#fdca26\"],[1.0,\"#f0f921\"]]}],\"heatmapgl\":[{\"type\":\"heatmapgl\",\"colorbar\":{\"outlinewidth\":0,\"ticks\":\"\"},\"colorscale\":[[0.0,\"#0d0887\"],[0.1111111111111111,\"#46039f\"],[0.2222222222222222,\"#7201a8\"],[0.3333333333333333,\"#9c179e\"],[0.4444444444444444,\"#bd3786\"],[0.5555555555555556,\"#d8576b\"],[0.6666666666666666,\"#ed7953\"],[0.7777777777777778,\"#fb9f3a\"],[0.8888888888888888,\"#fdca26\"],[1.0,\"#f0f921\"]]}],\"contourcarpet\":[{\"type\":\"contourcarpet\",\"colorbar\":{\"outlinewidth\":0,\"ticks\":\"\"}}],\"contour\":[{\"type\":\"contour\",\"colorbar\":{\"outlinewidth\":0,\"ticks\":\"\"},\"colorscale\":[[0.0,\"#0d0887\"],[0.1111111111111111,\"#46039f\"],[0.2222222222222222,\"#7201a8\"],[0.3333333333333333,\"#9c179e\"],[0.4444444444444444,\"#bd3786\"],[0.5555555555555556,\"#d8576b\"],[0.6666666666666666,\"#ed7953\"],[0.7777777777777778,\"#fb9f3a\"],[0.8888888888888888,\"#fdca26\"],[1.0,\"#f0f921\"]]}],\"surface\":[{\"type\":\"surface\",\"colorbar\":{\"outlinewidth\":0,\"ticks\":\"\"},\"colorscale\":[[0.0,\"#0d0887\"],[0.1111111111111111,\"#46039f\"],[0.2222222222222222,\"#7201a8\"],[0.3333333333333333,\"#9c179e\"],[0.4444444444444444,\"#bd3786\"],[0.5555555555555556,\"#d8576b\"],[0.6666666666666666,\"#ed7953\"],[0.7777777777777778,\"#fb9f3a\"],[0.8888888888888888,\"#fdca26\"],[1.0,\"#f0f921\"]]}],\"mesh3d\":[{\"type\":\"mesh3d\",\"colorbar\":{\"outlinewidth\":0,\"ticks\":\"\"}}],\"scatter\":[{\"fillpattern\":{\"fillmode\":\"overlay\",\"size\":10,\"solidity\":0.2},\"type\":\"scatter\"}],\"parcoords\":[{\"type\":\"parcoords\",\"line\":{\"colorbar\":{\"outlinewidth\":0,\"ticks\":\"\"}}}],\"scatterpolargl\":[{\"type\":\"scatterpolargl\",\"marker\":{\"colorbar\":{\"outlinewidth\":0,\"ticks\":\"\"}}}],\"bar\":[{\"error_x\":{\"color\":\"#2a3f5f\"},\"error_y\":{\"color\":\"#2a3f5f\"},\"marker\":{\"line\":{\"color\":\"#E5ECF6\",\"width\":0.5},\"pattern\":{\"fillmode\":\"overlay\",\"size\":10,\"solidity\":0.2}},\"type\":\"bar\"}],\"scattergeo\":[{\"type\":\"scattergeo\",\"marker\":{\"colorbar\":{\"outlinewidth\":0,\"ticks\":\"\"}}}],\"scatterpolar\":[{\"type\":\"scatterpolar\",\"marker\":{\"colorbar\":{\"outlinewidth\":0,\"ticks\":\"\"}}}],\"histogram\":[{\"marker\":{\"pattern\":{\"fillmode\":\"overlay\",\"size\":10,\"solidity\":0.2}},\"type\":\"histogram\"}],\"scattergl\":[{\"type\":\"scattergl\",\"marker\":{\"colorbar\":{\"outlinewidth\":0,\"ticks\":\"\"}}}],\"scatter3d\":[{\"type\":\"scatter3d\",\"line\":{\"colorbar\":{\"outlinewidth\":0,\"ticks\":\"\"}},\"marker\":{\"colorbar\":{\"outlinewidth\":0,\"ticks\":\"\"}}}],\"scattermapbox\":[{\"type\":\"scattermapbox\",\"marker\":{\"colorbar\":{\"outlinewidth\":0,\"ticks\":\"\"}}}],\"scatterternary\":[{\"type\":\"scatterternary\",\"marker\":{\"colorbar\":{\"outlinewidth\":0,\"ticks\":\"\"}}}],\"scattercarpet\":[{\"type\":\"scattercarpet\",\"marker\":{\"colorbar\":{\"outlinewidth\":0,\"ticks\":\"\"}}}],\"carpet\":[{\"aaxis\":{\"endlinecolor\":\"#2a3f5f\",\"gridcolor\":\"white\",\"linecolor\":\"white\",\"minorgridcolor\":\"white\",\"startlinecolor\":\"#2a3f5f\"},\"baxis\":{\"endlinecolor\":\"#2a3f5f\",\"gridcolor\":\"white\",\"linecolor\":\"white\",\"minorgridcolor\":\"white\",\"startlinecolor\":\"#2a3f5f\"},\"type\":\"carpet\"}],\"table\":[{\"cells\":{\"fill\":{\"color\":\"#EBF0F8\"},\"line\":{\"color\":\"white\"}},\"header\":{\"fill\":{\"color\":\"#C8D4E3\"},\"line\":{\"color\":\"white\"}},\"type\":\"table\"}],\"barpolar\":[{\"marker\":{\"line\":{\"color\":\"#E5ECF6\",\"width\":0.5},\"pattern\":{\"fillmode\":\"overlay\",\"size\":10,\"solidity\":0.2}},\"type\":\"barpolar\"}],\"pie\":[{\"automargin\":true,\"type\":\"pie\"}]},\"layout\":{\"autotypenumbers\":\"strict\",\"colorway\":[\"#636efa\",\"#EF553B\",\"#00cc96\",\"#ab63fa\",\"#FFA15A\",\"#19d3f3\",\"#FF6692\",\"#B6E880\",\"#FF97FF\",\"#FECB52\"],\"font\":{\"color\":\"#2a3f5f\"},\"hovermode\":\"closest\",\"hoverlabel\":{\"align\":\"left\"},\"paper_bgcolor\":\"white\",\"plot_bgcolor\":\"#E5ECF6\",\"polar\":{\"bgcolor\":\"#E5ECF6\",\"angularaxis\":{\"gridcolor\":\"white\",\"linecolor\":\"white\",\"ticks\":\"\"},\"radialaxis\":{\"gridcolor\":\"white\",\"linecolor\":\"white\",\"ticks\":\"\"}},\"ternary\":{\"bgcolor\":\"#E5ECF6\",\"aaxis\":{\"gridcolor\":\"white\",\"linecolor\":\"white\",\"ticks\":\"\"},\"baxis\":{\"gridcolor\":\"white\",\"linecolor\":\"white\",\"ticks\":\"\"},\"caxis\":{\"gridcolor\":\"white\",\"linecolor\":\"white\",\"ticks\":\"\"}},\"coloraxis\":{\"colorbar\":{\"outlinewidth\":0,\"ticks\":\"\"}},\"colorscale\":{\"sequential\":[[0.0,\"#0d0887\"],[0.1111111111111111,\"#46039f\"],[0.2222222222222222,\"#7201a8\"],[0.3333333333333333,\"#9c179e\"],[0.4444444444444444,\"#bd3786\"],[0.5555555555555556,\"#d8576b\"],[0.6666666666666666,\"#ed7953\"],[0.7777777777777778,\"#fb9f3a\"],[0.8888888888888888,\"#fdca26\"],[1.0,\"#f0f921\"]],\"sequentialminus\":[[0.0,\"#0d0887\"],[0.1111111111111111,\"#46039f\"],[0.2222222222222222,\"#7201a8\"],[0.3333333333333333,\"#9c179e\"],[0.4444444444444444,\"#bd3786\"],[0.5555555555555556,\"#d8576b\"],[0.6666666666666666,\"#ed7953\"],[0.7777777777777778,\"#fb9f3a\"],[0.8888888888888888,\"#fdca26\"],[1.0,\"#f0f921\"]],\"diverging\":[[0,\"#8e0152\"],[0.1,\"#c51b7d\"],[0.2,\"#de77ae\"],[0.3,\"#f1b6da\"],[0.4,\"#fde0ef\"],[0.5,\"#f7f7f7\"],[0.6,\"#e6f5d0\"],[0.7,\"#b8e186\"],[0.8,\"#7fbc41\"],[0.9,\"#4d9221\"],[1,\"#276419\"]]},\"xaxis\":{\"gridcolor\":\"white\",\"linecolor\":\"white\",\"ticks\":\"\",\"title\":{\"standoff\":15},\"zerolinecolor\":\"white\",\"automargin\":true,\"zerolinewidth\":2},\"yaxis\":{\"gridcolor\":\"white\",\"linecolor\":\"white\",\"ticks\":\"\",\"title\":{\"standoff\":15},\"zerolinecolor\":\"white\",\"automargin\":true,\"zerolinewidth\":2},\"scene\":{\"xaxis\":{\"backgroundcolor\":\"#E5ECF6\",\"gridcolor\":\"white\",\"linecolor\":\"white\",\"showbackground\":true,\"ticks\":\"\",\"zerolinecolor\":\"white\",\"gridwidth\":2},\"yaxis\":{\"backgroundcolor\":\"#E5ECF6\",\"gridcolor\":\"white\",\"linecolor\":\"white\",\"showbackground\":true,\"ticks\":\"\",\"zerolinecolor\":\"white\",\"gridwidth\":2},\"zaxis\":{\"backgroundcolor\":\"#E5ECF6\",\"gridcolor\":\"white\",\"linecolor\":\"white\",\"showbackground\":true,\"ticks\":\"\",\"zerolinecolor\":\"white\",\"gridwidth\":2}},\"shapedefaults\":{\"line\":{\"color\":\"#2a3f5f\"}},\"annotationdefaults\":{\"arrowcolor\":\"#2a3f5f\",\"arrowhead\":0,\"arrowwidth\":1},\"geo\":{\"bgcolor\":\"white\",\"landcolor\":\"#E5ECF6\",\"subunitcolor\":\"white\",\"showland\":true,\"showlakes\":true,\"lakecolor\":\"white\"},\"title\":{\"x\":0.05},\"mapbox\":{\"style\":\"light\"}}},\"scene\":{\"domain\":{\"x\":[0.0,1.0],\"y\":[0.0,1.0]},\"xaxis\":{\"title\":{\"text\":\"\\u041f\\u043e\\u0432\\u043e\\u0440\\u043e\\u0442\"}},\"yaxis\":{\"title\":{\"text\":\"\\u0428\\u0443\\u043c\"}},\"zaxis\":{\"title\":{\"text\":\"Accuracy\"}}},\"legend\":{\"tracegroupgap\":0},\"title\":{\"text\":\"\\u0413\\u0440\\u0430\\u0444\\u0438\\u043a \\u0441\\u043e\\u0432\\u043c\\u0435\\u0449\\u0435\\u043d\\u0438\\u044f \\u0431\\u0435\\u043b\\u043e\\u0433\\u043e \\u0448\\u0443\\u043c\\u0430 \\u0438 \\u043f\\u043e\\u0432\\u043e\\u0440\\u043e\\u0442\\u0430\"}},                        {\"responsive\": true}                    ).then(function(){\n",
       "                            \n",
       "var gd = document.getElementById('1bd3a318-468a-4af0-a40a-c579e7ad04de');\n",
       "var x = new MutationObserver(function (mutations, observer) {{\n",
       "        var display = window.getComputedStyle(gd).display;\n",
       "        if (!display || display === 'none') {{\n",
       "            console.log([gd, 'removed!']);\n",
       "            Plotly.purge(gd);\n",
       "            observer.disconnect();\n",
       "        }}\n",
       "}});\n",
       "\n",
       "// Listen for the removal of the full notebook cells\n",
       "var notebookContainer = gd.closest('#notebook-container');\n",
       "if (notebookContainer) {{\n",
       "    x.observe(notebookContainer, {childList: true});\n",
       "}}\n",
       "\n",
       "// Listen for the clearing of the current output cell\n",
       "var outputEl = gd.closest('.output');\n",
       "if (outputEl) {{\n",
       "    x.observe(outputEl, {childList: true});\n",
       "}}\n",
       "\n",
       "                        })                };                });            </script>        </div>"
      ]
     },
     "metadata": {},
     "output_type": "display_data"
    }
   ],
   "source": [
    "fig = px.line_3d(x=rotation_values,\n",
    "                 y=scale_values, \n",
    "                 z=acc_values,\n",
    "                 labels = {'x':'Поворот',\n",
    "                          'y':'Шум',\n",
    "                          'z': 'Accuracy'},\n",
    "                title='График совмещения белого шума и поворота')\n",
    "fig.show()"
   ]
  },
  {
   "cell_type": "code",
   "execution_count": 80,
   "id": "971d1f9e-df6b-4452-9500-8a6a09a85856",
   "metadata": {
    "tags": []
   },
   "outputs": [
    {
     "data": {
      "text/html": [
       "<div>\n",
       "<style scoped>\n",
       "    .dataframe tbody tr th:only-of-type {\n",
       "        vertical-align: middle;\n",
       "    }\n",
       "\n",
       "    .dataframe tbody tr th {\n",
       "        vertical-align: top;\n",
       "    }\n",
       "\n",
       "    .dataframe thead th {\n",
       "        text-align: right;\n",
       "    }\n",
       "</style>\n",
       "<table border=\"1\" class=\"dataframe\">\n",
       "  <thead>\n",
       "    <tr style=\"text-align: right;\">\n",
       "      <th></th>\n",
       "      <th>accuracy</th>\n",
       "      <th>rotation</th>\n",
       "      <th>scale</th>\n",
       "    </tr>\n",
       "  </thead>\n",
       "  <tbody>\n",
       "    <tr>\n",
       "      <th>0</th>\n",
       "      <td>93.719953</td>\n",
       "      <td>1</td>\n",
       "      <td>0.05</td>\n",
       "    </tr>\n",
       "    <tr>\n",
       "      <th>1</th>\n",
       "      <td>87.029248</td>\n",
       "      <td>3</td>\n",
       "      <td>0.10</td>\n",
       "    </tr>\n",
       "    <tr>\n",
       "      <th>2</th>\n",
       "      <td>37.049279</td>\n",
       "      <td>5</td>\n",
       "      <td>0.30</td>\n",
       "    </tr>\n",
       "    <tr>\n",
       "      <th>3</th>\n",
       "      <td>24.228767</td>\n",
       "      <td>10</td>\n",
       "      <td>0.40</td>\n",
       "    </tr>\n",
       "    <tr>\n",
       "      <th>4</th>\n",
       "      <td>17.417869</td>\n",
       "      <td>15</td>\n",
       "      <td>0.50</td>\n",
       "    </tr>\n",
       "  </tbody>\n",
       "</table>\n",
       "</div>"
      ],
      "text/plain": [
       "    accuracy  rotation  scale\n",
       "0  93.719953         1   0.05\n",
       "1  87.029248         3   0.10\n",
       "2  37.049279         5   0.30\n",
       "3  24.228767        10   0.40\n",
       "4  17.417869        15   0.50"
      ]
     },
     "execution_count": 80,
     "metadata": {},
     "output_type": "execute_result"
    }
   ],
   "source": [
    "why_df"
   ]
  },
  {
   "cell_type": "code",
   "execution_count": 81,
   "id": "95b73e1d-f7a5-4d57-9e17-a88483d65461",
   "metadata": {
    "tags": []
   },
   "outputs": [
    {
     "data": {
      "application/vnd.plotly.v1+json": {
       "config": {
        "plotlyServerURL": "https://plot.ly"
       },
       "data": [
        {
         "hovertemplate": "scale=%{x}<br>rotation=%{y}<br>accuracy=%{z}<extra></extra>",
         "legendgroup": "",
         "marker": {
          "color": "#636efa",
          "symbol": "circle"
         },
         "mode": "markers",
         "name": "",
         "scene": "scene",
         "showlegend": false,
         "type": "scatter3d",
         "x": [
          0.05,
          0.1,
          0.14,
          0.16,
          0.3,
          0.5,
          0.55,
          0.65,
          0.8,
          0.7,
          0.9
         ],
         "y": [
          1,
          2,
          3,
          5,
          7,
          8,
          9,
          10,
          15,
          20,
          25
         ],
         "z": [
          93.45953464508057,
          86.25801205635071,
          75.59094429016113,
          69.28085088729858,
          36.84895932674408,
          20.412659645080566,
          18.679888546466827,
          15.564903616905212,
          13.040865957736969,
          12.970753014087677,
          11.528445780277252
         ]
        }
       ],
       "layout": {
        "autosize": true,
        "legend": {
         "tracegroupgap": 0
        },
        "margin": {
         "t": 60
        },
        "scene": {
         "aspectmode": "auto",
         "aspectratio": {
          "x": 1,
          "y": 1,
          "z": 1
         },
         "camera": {
          "center": {
           "x": 0,
           "y": 0,
           "z": 0
          },
          "eye": {
           "x": 0.33806017515937625,
           "y": -3.0751725734854936,
           "z": 0.44534998774940376
          },
          "projection": {
           "type": "perspective"
          },
          "up": {
           "x": 0,
           "y": 0,
           "z": 1
          }
         },
         "domain": {
          "x": [
           0,
           1
          ],
          "y": [
           0,
           1
          ]
         },
         "xaxis": {
          "title": {
           "text": "scale"
          },
          "type": "linear"
         },
         "yaxis": {
          "title": {
           "text": "rotation"
          },
          "type": "linear"
         },
         "zaxis": {
          "title": {
           "text": "accuracy"
          },
          "type": "linear"
         }
        },
        "template": {
         "data": {
          "bar": [
           {
            "error_x": {
             "color": "#2a3f5f"
            },
            "error_y": {
             "color": "#2a3f5f"
            },
            "marker": {
             "line": {
              "color": "#E5ECF6",
              "width": 0.5
             },
             "pattern": {
              "fillmode": "overlay",
              "size": 10,
              "solidity": 0.2
             }
            },
            "type": "bar"
           }
          ],
          "barpolar": [
           {
            "marker": {
             "line": {
              "color": "#E5ECF6",
              "width": 0.5
             },
             "pattern": {
              "fillmode": "overlay",
              "size": 10,
              "solidity": 0.2
             }
            },
            "type": "barpolar"
           }
          ],
          "carpet": [
           {
            "aaxis": {
             "endlinecolor": "#2a3f5f",
             "gridcolor": "white",
             "linecolor": "white",
             "minorgridcolor": "white",
             "startlinecolor": "#2a3f5f"
            },
            "baxis": {
             "endlinecolor": "#2a3f5f",
             "gridcolor": "white",
             "linecolor": "white",
             "minorgridcolor": "white",
             "startlinecolor": "#2a3f5f"
            },
            "type": "carpet"
           }
          ],
          "choropleth": [
           {
            "colorbar": {
             "outlinewidth": 0,
             "ticks": ""
            },
            "type": "choropleth"
           }
          ],
          "contour": [
           {
            "colorbar": {
             "outlinewidth": 0,
             "ticks": ""
            },
            "colorscale": [
             [
              0,
              "#0d0887"
             ],
             [
              0.1111111111111111,
              "#46039f"
             ],
             [
              0.2222222222222222,
              "#7201a8"
             ],
             [
              0.3333333333333333,
              "#9c179e"
             ],
             [
              0.4444444444444444,
              "#bd3786"
             ],
             [
              0.5555555555555556,
              "#d8576b"
             ],
             [
              0.6666666666666666,
              "#ed7953"
             ],
             [
              0.7777777777777778,
              "#fb9f3a"
             ],
             [
              0.8888888888888888,
              "#fdca26"
             ],
             [
              1,
              "#f0f921"
             ]
            ],
            "type": "contour"
           }
          ],
          "contourcarpet": [
           {
            "colorbar": {
             "outlinewidth": 0,
             "ticks": ""
            },
            "type": "contourcarpet"
           }
          ],
          "heatmap": [
           {
            "colorbar": {
             "outlinewidth": 0,
             "ticks": ""
            },
            "colorscale": [
             [
              0,
              "#0d0887"
             ],
             [
              0.1111111111111111,
              "#46039f"
             ],
             [
              0.2222222222222222,
              "#7201a8"
             ],
             [
              0.3333333333333333,
              "#9c179e"
             ],
             [
              0.4444444444444444,
              "#bd3786"
             ],
             [
              0.5555555555555556,
              "#d8576b"
             ],
             [
              0.6666666666666666,
              "#ed7953"
             ],
             [
              0.7777777777777778,
              "#fb9f3a"
             ],
             [
              0.8888888888888888,
              "#fdca26"
             ],
             [
              1,
              "#f0f921"
             ]
            ],
            "type": "heatmap"
           }
          ],
          "heatmapgl": [
           {
            "colorbar": {
             "outlinewidth": 0,
             "ticks": ""
            },
            "colorscale": [
             [
              0,
              "#0d0887"
             ],
             [
              0.1111111111111111,
              "#46039f"
             ],
             [
              0.2222222222222222,
              "#7201a8"
             ],
             [
              0.3333333333333333,
              "#9c179e"
             ],
             [
              0.4444444444444444,
              "#bd3786"
             ],
             [
              0.5555555555555556,
              "#d8576b"
             ],
             [
              0.6666666666666666,
              "#ed7953"
             ],
             [
              0.7777777777777778,
              "#fb9f3a"
             ],
             [
              0.8888888888888888,
              "#fdca26"
             ],
             [
              1,
              "#f0f921"
             ]
            ],
            "type": "heatmapgl"
           }
          ],
          "histogram": [
           {
            "marker": {
             "pattern": {
              "fillmode": "overlay",
              "size": 10,
              "solidity": 0.2
             }
            },
            "type": "histogram"
           }
          ],
          "histogram2d": [
           {
            "colorbar": {
             "outlinewidth": 0,
             "ticks": ""
            },
            "colorscale": [
             [
              0,
              "#0d0887"
             ],
             [
              0.1111111111111111,
              "#46039f"
             ],
             [
              0.2222222222222222,
              "#7201a8"
             ],
             [
              0.3333333333333333,
              "#9c179e"
             ],
             [
              0.4444444444444444,
              "#bd3786"
             ],
             [
              0.5555555555555556,
              "#d8576b"
             ],
             [
              0.6666666666666666,
              "#ed7953"
             ],
             [
              0.7777777777777778,
              "#fb9f3a"
             ],
             [
              0.8888888888888888,
              "#fdca26"
             ],
             [
              1,
              "#f0f921"
             ]
            ],
            "type": "histogram2d"
           }
          ],
          "histogram2dcontour": [
           {
            "colorbar": {
             "outlinewidth": 0,
             "ticks": ""
            },
            "colorscale": [
             [
              0,
              "#0d0887"
             ],
             [
              0.1111111111111111,
              "#46039f"
             ],
             [
              0.2222222222222222,
              "#7201a8"
             ],
             [
              0.3333333333333333,
              "#9c179e"
             ],
             [
              0.4444444444444444,
              "#bd3786"
             ],
             [
              0.5555555555555556,
              "#d8576b"
             ],
             [
              0.6666666666666666,
              "#ed7953"
             ],
             [
              0.7777777777777778,
              "#fb9f3a"
             ],
             [
              0.8888888888888888,
              "#fdca26"
             ],
             [
              1,
              "#f0f921"
             ]
            ],
            "type": "histogram2dcontour"
           }
          ],
          "mesh3d": [
           {
            "colorbar": {
             "outlinewidth": 0,
             "ticks": ""
            },
            "type": "mesh3d"
           }
          ],
          "parcoords": [
           {
            "line": {
             "colorbar": {
              "outlinewidth": 0,
              "ticks": ""
             }
            },
            "type": "parcoords"
           }
          ],
          "pie": [
           {
            "automargin": true,
            "type": "pie"
           }
          ],
          "scatter": [
           {
            "fillpattern": {
             "fillmode": "overlay",
             "size": 10,
             "solidity": 0.2
            },
            "type": "scatter"
           }
          ],
          "scatter3d": [
           {
            "line": {
             "colorbar": {
              "outlinewidth": 0,
              "ticks": ""
             }
            },
            "marker": {
             "colorbar": {
              "outlinewidth": 0,
              "ticks": ""
             }
            },
            "type": "scatter3d"
           }
          ],
          "scattercarpet": [
           {
            "marker": {
             "colorbar": {
              "outlinewidth": 0,
              "ticks": ""
             }
            },
            "type": "scattercarpet"
           }
          ],
          "scattergeo": [
           {
            "marker": {
             "colorbar": {
              "outlinewidth": 0,
              "ticks": ""
             }
            },
            "type": "scattergeo"
           }
          ],
          "scattergl": [
           {
            "marker": {
             "colorbar": {
              "outlinewidth": 0,
              "ticks": ""
             }
            },
            "type": "scattergl"
           }
          ],
          "scattermapbox": [
           {
            "marker": {
             "colorbar": {
              "outlinewidth": 0,
              "ticks": ""
             }
            },
            "type": "scattermapbox"
           }
          ],
          "scatterpolar": [
           {
            "marker": {
             "colorbar": {
              "outlinewidth": 0,
              "ticks": ""
             }
            },
            "type": "scatterpolar"
           }
          ],
          "scatterpolargl": [
           {
            "marker": {
             "colorbar": {
              "outlinewidth": 0,
              "ticks": ""
             }
            },
            "type": "scatterpolargl"
           }
          ],
          "scatterternary": [
           {
            "marker": {
             "colorbar": {
              "outlinewidth": 0,
              "ticks": ""
             }
            },
            "type": "scatterternary"
           }
          ],
          "surface": [
           {
            "colorbar": {
             "outlinewidth": 0,
             "ticks": ""
            },
            "colorscale": [
             [
              0,
              "#0d0887"
             ],
             [
              0.1111111111111111,
              "#46039f"
             ],
             [
              0.2222222222222222,
              "#7201a8"
             ],
             [
              0.3333333333333333,
              "#9c179e"
             ],
             [
              0.4444444444444444,
              "#bd3786"
             ],
             [
              0.5555555555555556,
              "#d8576b"
             ],
             [
              0.6666666666666666,
              "#ed7953"
             ],
             [
              0.7777777777777778,
              "#fb9f3a"
             ],
             [
              0.8888888888888888,
              "#fdca26"
             ],
             [
              1,
              "#f0f921"
             ]
            ],
            "type": "surface"
           }
          ],
          "table": [
           {
            "cells": {
             "fill": {
              "color": "#EBF0F8"
             },
             "line": {
              "color": "white"
             }
            },
            "header": {
             "fill": {
              "color": "#C8D4E3"
             },
             "line": {
              "color": "white"
             }
            },
            "type": "table"
           }
          ]
         },
         "layout": {
          "annotationdefaults": {
           "arrowcolor": "#2a3f5f",
           "arrowhead": 0,
           "arrowwidth": 1
          },
          "autotypenumbers": "strict",
          "coloraxis": {
           "colorbar": {
            "outlinewidth": 0,
            "ticks": ""
           }
          },
          "colorscale": {
           "diverging": [
            [
             0,
             "#8e0152"
            ],
            [
             0.1,
             "#c51b7d"
            ],
            [
             0.2,
             "#de77ae"
            ],
            [
             0.3,
             "#f1b6da"
            ],
            [
             0.4,
             "#fde0ef"
            ],
            [
             0.5,
             "#f7f7f7"
            ],
            [
             0.6,
             "#e6f5d0"
            ],
            [
             0.7,
             "#b8e186"
            ],
            [
             0.8,
             "#7fbc41"
            ],
            [
             0.9,
             "#4d9221"
            ],
            [
             1,
             "#276419"
            ]
           ],
           "sequential": [
            [
             0,
             "#0d0887"
            ],
            [
             0.1111111111111111,
             "#46039f"
            ],
            [
             0.2222222222222222,
             "#7201a8"
            ],
            [
             0.3333333333333333,
             "#9c179e"
            ],
            [
             0.4444444444444444,
             "#bd3786"
            ],
            [
             0.5555555555555556,
             "#d8576b"
            ],
            [
             0.6666666666666666,
             "#ed7953"
            ],
            [
             0.7777777777777778,
             "#fb9f3a"
            ],
            [
             0.8888888888888888,
             "#fdca26"
            ],
            [
             1,
             "#f0f921"
            ]
           ],
           "sequentialminus": [
            [
             0,
             "#0d0887"
            ],
            [
             0.1111111111111111,
             "#46039f"
            ],
            [
             0.2222222222222222,
             "#7201a8"
            ],
            [
             0.3333333333333333,
             "#9c179e"
            ],
            [
             0.4444444444444444,
             "#bd3786"
            ],
            [
             0.5555555555555556,
             "#d8576b"
            ],
            [
             0.6666666666666666,
             "#ed7953"
            ],
            [
             0.7777777777777778,
             "#fb9f3a"
            ],
            [
             0.8888888888888888,
             "#fdca26"
            ],
            [
             1,
             "#f0f921"
            ]
           ]
          },
          "colorway": [
           "#636efa",
           "#EF553B",
           "#00cc96",
           "#ab63fa",
           "#FFA15A",
           "#19d3f3",
           "#FF6692",
           "#B6E880",
           "#FF97FF",
           "#FECB52"
          ],
          "font": {
           "color": "#2a3f5f"
          },
          "geo": {
           "bgcolor": "white",
           "lakecolor": "white",
           "landcolor": "#E5ECF6",
           "showlakes": true,
           "showland": true,
           "subunitcolor": "white"
          },
          "hoverlabel": {
           "align": "left"
          },
          "hovermode": "closest",
          "mapbox": {
           "style": "light"
          },
          "paper_bgcolor": "white",
          "plot_bgcolor": "#E5ECF6",
          "polar": {
           "angularaxis": {
            "gridcolor": "white",
            "linecolor": "white",
            "ticks": ""
           },
           "bgcolor": "#E5ECF6",
           "radialaxis": {
            "gridcolor": "white",
            "linecolor": "white",
            "ticks": ""
           }
          },
          "scene": {
           "xaxis": {
            "backgroundcolor": "#E5ECF6",
            "gridcolor": "white",
            "gridwidth": 2,
            "linecolor": "white",
            "showbackground": true,
            "ticks": "",
            "zerolinecolor": "white"
           },
           "yaxis": {
            "backgroundcolor": "#E5ECF6",
            "gridcolor": "white",
            "gridwidth": 2,
            "linecolor": "white",
            "showbackground": true,
            "ticks": "",
            "zerolinecolor": "white"
           },
           "zaxis": {
            "backgroundcolor": "#E5ECF6",
            "gridcolor": "white",
            "gridwidth": 2,
            "linecolor": "white",
            "showbackground": true,
            "ticks": "",
            "zerolinecolor": "white"
           }
          },
          "shapedefaults": {
           "line": {
            "color": "#2a3f5f"
           }
          },
          "ternary": {
           "aaxis": {
            "gridcolor": "white",
            "linecolor": "white",
            "ticks": ""
           },
           "baxis": {
            "gridcolor": "white",
            "linecolor": "white",
            "ticks": ""
           },
           "bgcolor": "#E5ECF6",
           "caxis": {
            "gridcolor": "white",
            "linecolor": "white",
            "ticks": ""
           }
          },
          "title": {
           "x": 0.05
          },
          "xaxis": {
           "automargin": true,
           "gridcolor": "white",
           "linecolor": "white",
           "ticks": "",
           "title": {
            "standoff": 15
           },
           "zerolinecolor": "white",
           "zerolinewidth": 2
          },
          "yaxis": {
           "automargin": true,
           "gridcolor": "white",
           "linecolor": "white",
           "ticks": "",
           "title": {
            "standoff": 15
           },
           "zerolinecolor": "white",
           "zerolinewidth": 2
          }
         }
        }
       }
      },
      "image/png": "[encoded data removed]",
      "text/html": [
       "<div>                            <div id=\"4b584c59-78fe-4359-8326-e4de1520ff28\" class=\"plotly-graph-div\" style=\"height:525px; width:100%;\"></div>            <script type=\"text/javascript\">                require([\"plotly\"], function(Plotly) {                    window.PLOTLYENV=window.PLOTLYENV || {};                                    if (document.getElementById(\"4b584c59-78fe-4359-8326-e4de1520ff28\")) {                    Plotly.newPlot(                        \"4b584c59-78fe-4359-8326-e4de1520ff28\",                        [{\"hovertemplate\":\"scale=%{x}<br>rotation=%{y}<br>accuracy=%{z}<extra></extra>\",\"legendgroup\":\"\",\"marker\":{\"color\":\"#636efa\",\"symbol\":\"circle\"},\"mode\":\"markers\",\"name\":\"\",\"scene\":\"scene\",\"showlegend\":false,\"x\":[0.05,0.1,0.14,0.16,0.3,0.5,0.55,0.65,0.8,0.7,0.9],\"y\":[1,2,3,5,7,8,9,10,15,20,25],\"z\":[93.45953464508057,86.25801205635071,75.59094429016113,69.28085088729858,36.84895932674408,20.412659645080566,18.679888546466827,15.564903616905212,13.040865957736969,12.970753014087677,11.528445780277252],\"type\":\"scatter3d\"}],                        {\"template\":{\"data\":{\"histogram2dcontour\":[{\"type\":\"histogram2dcontour\",\"colorbar\":{\"outlinewidth\":0,\"ticks\":\"\"},\"colorscale\":[[0.0,\"#0d0887\"],[0.1111111111111111,\"#46039f\"],[0.2222222222222222,\"#7201a8\"],[0.3333333333333333,\"#9c179e\"],[0.4444444444444444,\"#bd3786\"],[0.5555555555555556,\"#d8576b\"],[0.6666666666666666,\"#ed7953\"],[0.7777777777777778,\"#fb9f3a\"],[0.8888888888888888,\"#fdca26\"],[1.0,\"#f0f921\"]]}],\"choropleth\":[{\"type\":\"choropleth\",\"colorbar\":{\"outlinewidth\":0,\"ticks\":\"\"}}],\"histogram2d\":[{\"type\":\"histogram2d\",\"colorbar\":{\"outlinewidth\":0,\"ticks\":\"\"},\"colorscale\":[[0.0,\"#0d0887\"],[0.1111111111111111,\"#46039f\"],[0.2222222222222222,\"#7201a8\"],[0.3333333333333333,\"#9c179e\"],[0.4444444444444444,\"#bd3786\"],[0.5555555555555556,\"#d8576b\"],[0.6666666666666666,\"#ed7953\"],[0.7777777777777778,\"#fb9f3a\"],[0.8888888888888888,\"#fdca26\"],[1.0,\"#f0f921\"]]}],\"heatmap\":[{\"type\":\"heatmap\",\"colorbar\":{\"outlinewidth\":0,\"ticks\":\"\"},\"colorscale\":[[0.0,\"#0d0887\"],[0.1111111111111111,\"#46039f\"],[0.2222222222222222,\"#7201a8\"],[0.3333333333333333,\"#9c179e\"],[0.4444444444444444,\"#bd3786\"],[0.5555555555555556,\"#d8576b\"],[0.6666666666666666,\"#ed7953\"],[0.7777777777777778,\"#fb9f3a\"],[0.8888888888888888,\"#fdca26\"],[1.0,\"#f0f921\"]]}],\"heatmapgl\":[{\"type\":\"heatmapgl\",\"colorbar\":{\"outlinewidth\":0,\"ticks\":\"\"},\"colorscale\":[[0.0,\"#0d0887\"],[0.1111111111111111,\"#46039f\"],[0.2222222222222222,\"#7201a8\"],[0.3333333333333333,\"#9c179e\"],[0.4444444444444444,\"#bd3786\"],[0.5555555555555556,\"#d8576b\"],[0.6666666666666666,\"#ed7953\"],[0.7777777777777778,\"#fb9f3a\"],[0.8888888888888888,\"#fdca26\"],[1.0,\"#f0f921\"]]}],\"contourcarpet\":[{\"type\":\"contourcarpet\",\"colorbar\":{\"outlinewidth\":0,\"ticks\":\"\"}}],\"contour\":[{\"type\":\"contour\",\"colorbar\":{\"outlinewidth\":0,\"ticks\":\"\"},\"colorscale\":[[0.0,\"#0d0887\"],[0.1111111111111111,\"#46039f\"],[0.2222222222222222,\"#7201a8\"],[0.3333333333333333,\"#9c179e\"],[0.4444444444444444,\"#bd3786\"],[0.5555555555555556,\"#d8576b\"],[0.6666666666666666,\"#ed7953\"],[0.7777777777777778,\"#fb9f3a\"],[0.8888888888888888,\"#fdca26\"],[1.0,\"#f0f921\"]]}],\"surface\":[{\"type\":\"surface\",\"colorbar\":{\"outlinewidth\":0,\"ticks\":\"\"},\"colorscale\":[[0.0,\"#0d0887\"],[0.1111111111111111,\"#46039f\"],[0.2222222222222222,\"#7201a8\"],[0.3333333333333333,\"#9c179e\"],[0.4444444444444444,\"#bd3786\"],[0.5555555555555556,\"#d8576b\"],[0.6666666666666666,\"#ed7953\"],[0.7777777777777778,\"#fb9f3a\"],[0.8888888888888888,\"#fdca26\"],[1.0,\"#f0f921\"]]}],\"mesh3d\":[{\"type\":\"mesh3d\",\"colorbar\":{\"outlinewidth\":0,\"ticks\":\"\"}}],\"scatter\":[{\"fillpattern\":{\"fillmode\":\"overlay\",\"size\":10,\"solidity\":0.2},\"type\":\"scatter\"}],\"parcoords\":[{\"type\":\"parcoords\",\"line\":{\"colorbar\":{\"outlinewidth\":0,\"ticks\":\"\"}}}],\"scatterpolargl\":[{\"type\":\"scatterpolargl\",\"marker\":{\"colorbar\":{\"outlinewidth\":0,\"ticks\":\"\"}}}],\"bar\":[{\"error_x\":{\"color\":\"#2a3f5f\"},\"error_y\":{\"color\":\"#2a3f5f\"},\"marker\":{\"line\":{\"color\":\"#E5ECF6\",\"width\":0.5},\"pattern\":{\"fillmode\":\"overlay\",\"size\":10,\"solidity\":0.2}},\"type\":\"bar\"}],\"scattergeo\":[{\"type\":\"scattergeo\",\"marker\":{\"colorbar\":{\"outlinewidth\":0,\"ticks\":\"\"}}}],\"scatterpolar\":[{\"type\":\"scatterpolar\",\"marker\":{\"colorbar\":{\"outlinewidth\":0,\"ticks\":\"\"}}}],\"histogram\":[{\"marker\":{\"pattern\":{\"fillmode\":\"overlay\",\"size\":10,\"solidity\":0.2}},\"type\":\"histogram\"}],\"scattergl\":[{\"type\":\"scattergl\",\"marker\":{\"colorbar\":{\"outlinewidth\":0,\"ticks\":\"\"}}}],\"scatter3d\":[{\"type\":\"scatter3d\",\"line\":{\"colorbar\":{\"outlinewidth\":0,\"ticks\":\"\"}},\"marker\":{\"colorbar\":{\"outlinewidth\":0,\"ticks\":\"\"}}}],\"scattermapbox\":[{\"type\":\"scattermapbox\",\"marker\":{\"colorbar\":{\"outlinewidth\":0,\"ticks\":\"\"}}}],\"scatterternary\":[{\"type\":\"scatterternary\",\"marker\":{\"colorbar\":{\"outlinewidth\":0,\"ticks\":\"\"}}}],\"scattercarpet\":[{\"type\":\"scattercarpet\",\"marker\":{\"colorbar\":{\"outlinewidth\":0,\"ticks\":\"\"}}}],\"carpet\":[{\"aaxis\":{\"endlinecolor\":\"#2a3f5f\",\"gridcolor\":\"white\",\"linecolor\":\"white\",\"minorgridcolor\":\"white\",\"startlinecolor\":\"#2a3f5f\"},\"baxis\":{\"endlinecolor\":\"#2a3f5f\",\"gridcolor\":\"white\",\"linecolor\":\"white\",\"minorgridcolor\":\"white\",\"startlinecolor\":\"#2a3f5f\"},\"type\":\"carpet\"}],\"table\":[{\"cells\":{\"fill\":{\"color\":\"#EBF0F8\"},\"line\":{\"color\":\"white\"}},\"header\":{\"fill\":{\"color\":\"#C8D4E3\"},\"line\":{\"color\":\"white\"}},\"type\":\"table\"}],\"barpolar\":[{\"marker\":{\"line\":{\"color\":\"#E5ECF6\",\"width\":0.5},\"pattern\":{\"fillmode\":\"overlay\",\"size\":10,\"solidity\":0.2}},\"type\":\"barpolar\"}],\"pie\":[{\"automargin\":true,\"type\":\"pie\"}]},\"layout\":{\"autotypenumbers\":\"strict\",\"colorway\":[\"#636efa\",\"#EF553B\",\"#00cc96\",\"#ab63fa\",\"#FFA15A\",\"#19d3f3\",\"#FF6692\",\"#B6E880\",\"#FF97FF\",\"#FECB52\"],\"font\":{\"color\":\"#2a3f5f\"},\"hovermode\":\"closest\",\"hoverlabel\":{\"align\":\"left\"},\"paper_bgcolor\":\"white\",\"plot_bgcolor\":\"#E5ECF6\",\"polar\":{\"bgcolor\":\"#E5ECF6\",\"angularaxis\":{\"gridcolor\":\"white\",\"linecolor\":\"white\",\"ticks\":\"\"},\"radialaxis\":{\"gridcolor\":\"white\",\"linecolor\":\"white\",\"ticks\":\"\"}},\"ternary\":{\"bgcolor\":\"#E5ECF6\",\"aaxis\":{\"gridcolor\":\"white\",\"linecolor\":\"white\",\"ticks\":\"\"},\"baxis\":{\"gridcolor\":\"white\",\"linecolor\":\"white\",\"ticks\":\"\"},\"caxis\":{\"gridcolor\":\"white\",\"linecolor\":\"white\",\"ticks\":\"\"}},\"coloraxis\":{\"colorbar\":{\"outlinewidth\":0,\"ticks\":\"\"}},\"colorscale\":{\"sequential\":[[0.0,\"#0d0887\"],[0.1111111111111111,\"#46039f\"],[0.2222222222222222,\"#7201a8\"],[0.3333333333333333,\"#9c179e\"],[0.4444444444444444,\"#bd3786\"],[0.5555555555555556,\"#d8576b\"],[0.6666666666666666,\"#ed7953\"],[0.7777777777777778,\"#fb9f3a\"],[0.8888888888888888,\"#fdca26\"],[1.0,\"#f0f921\"]],\"sequentialminus\":[[0.0,\"#0d0887\"],[0.1111111111111111,\"#46039f\"],[0.2222222222222222,\"#7201a8\"],[0.3333333333333333,\"#9c179e\"],[0.4444444444444444,\"#bd3786\"],[0.5555555555555556,\"#d8576b\"],[0.6666666666666666,\"#ed7953\"],[0.7777777777777778,\"#fb9f3a\"],[0.8888888888888888,\"#fdca26\"],[1.0,\"#f0f921\"]],\"diverging\":[[0,\"#8e0152\"],[0.1,\"#c51b7d\"],[0.2,\"#de77ae\"],[0.3,\"#f1b6da\"],[0.4,\"#fde0ef\"],[0.5,\"#f7f7f7\"],[0.6,\"#e6f5d0\"],[0.7,\"#b8e186\"],[0.8,\"#7fbc41\"],[0.9,\"#4d9221\"],[1,\"#276419\"]]},\"xaxis\":{\"gridcolor\":\"white\",\"linecolor\":\"white\",\"ticks\":\"\",\"title\":{\"standoff\":15},\"zerolinecolor\":\"white\",\"automargin\":true,\"zerolinewidth\":2},\"yaxis\":{\"gridcolor\":\"white\",\"linecolor\":\"white\",\"ticks\":\"\",\"title\":{\"standoff\":15},\"zerolinecolor\":\"white\",\"automargin\":true,\"zerolinewidth\":2},\"scene\":{\"xaxis\":{\"backgroundcolor\":\"#E5ECF6\",\"gridcolor\":\"white\",\"linecolor\":\"white\",\"showbackground\":true,\"ticks\":\"\",\"zerolinecolor\":\"white\",\"gridwidth\":2},\"yaxis\":{\"backgroundcolor\":\"#E5ECF6\",\"gridcolor\":\"white\",\"linecolor\":\"white\",\"showbackground\":true,\"ticks\":\"\",\"zerolinecolor\":\"white\",\"gridwidth\":2},\"zaxis\":{\"backgroundcolor\":\"#E5ECF6\",\"gridcolor\":\"white\",\"linecolor\":\"white\",\"showbackground\":true,\"ticks\":\"\",\"zerolinecolor\":\"white\",\"gridwidth\":2}},\"shapedefaults\":{\"line\":{\"color\":\"#2a3f5f\"}},\"annotationdefaults\":{\"arrowcolor\":\"#2a3f5f\",\"arrowhead\":0,\"arrowwidth\":1},\"geo\":{\"bgcolor\":\"white\",\"landcolor\":\"#E5ECF6\",\"subunitcolor\":\"white\",\"showland\":true,\"showlakes\":true,\"lakecolor\":\"white\"},\"title\":{\"x\":0.05},\"mapbox\":{\"style\":\"light\"}}},\"scene\":{\"domain\":{\"x\":[0.0,1.0],\"y\":[0.0,1.0]},\"xaxis\":{\"title\":{\"text\":\"scale\"}},\"yaxis\":{\"title\":{\"text\":\"rotation\"}},\"zaxis\":{\"title\":{\"text\":\"accuracy\"}}},\"legend\":{\"tracegroupgap\":0},\"margin\":{\"t\":60}},                        {\"responsive\": true}                    ).then(function(){\n",
       "                            \n",
       "var gd = document.getElementById('4b584c59-78fe-4359-8326-e4de1520ff28');\n",
       "var x = new MutationObserver(function (mutations, observer) {{\n",
       "        var display = window.getComputedStyle(gd).display;\n",
       "        if (!display || display === 'none') {{\n",
       "            console.log([gd, 'removed!']);\n",
       "            Plotly.purge(gd);\n",
       "            observer.disconnect();\n",
       "        }}\n",
       "}});\n",
       "\n",
       "// Listen for the removal of the full notebook cells\n",
       "var notebookContainer = gd.closest('#notebook-container');\n",
       "if (notebookContainer) {{\n",
       "    x.observe(notebookContainer, {childList: true});\n",
       "}}\n",
       "\n",
       "// Listen for the clearing of the current output cell\n",
       "var outputEl = gd.closest('.output');\n",
       "if (outputEl) {{\n",
       "    x.observe(outputEl, {childList: true});\n",
       "}}\n",
       "\n",
       "                        })                };                });            </script>        </div>"
      ]
     },
     "metadata": {},
     "output_type": "display_data"
    }
   ],
   "source": [
    "#fig = plt.figure()\n",
    "#ax = plt.axes(projection='3d')\n",
    "zipped = list(zip(acc_values, rotation_values, scale_values))\n",
    "\n",
    "why_df = pd.DataFrame(zipped, columns=['accuracy', 'rotation', 'scale'])\n",
    "# ax.scatter3D(why_df)\n",
    "# plt.show()\n",
    "px.scatter_3d(why_df, x='scale', y='rotation', z='accuracy')"
   ]
  },
  {
   "cell_type": "code",
   "execution_count": 82,
   "id": "e980d556-72fe-4a12-9a8e-b907c31ce2d3",
   "metadata": {
    "tags": []
   },
   "outputs": [
    {
     "data": {
      "text/html": [
       "<div>\n",
       "<style scoped>\n",
       "    .dataframe tbody tr th:only-of-type {\n",
       "        vertical-align: middle;\n",
       "    }\n",
       "\n",
       "    .dataframe tbody tr th {\n",
       "        vertical-align: top;\n",
       "    }\n",
       "\n",
       "    .dataframe thead th {\n",
       "        text-align: right;\n",
       "    }\n",
       "</style>\n",
       "<table border=\"1\" class=\"dataframe\">\n",
       "  <thead>\n",
       "    <tr style=\"text-align: right;\">\n",
       "      <th></th>\n",
       "      <th>accuracy</th>\n",
       "      <th>rotation</th>\n",
       "      <th>scale</th>\n",
       "    </tr>\n",
       "  </thead>\n",
       "  <tbody>\n",
       "    <tr>\n",
       "      <th>0</th>\n",
       "      <td>93.459535</td>\n",
       "      <td>1</td>\n",
       "      <td>0.05</td>\n",
       "    </tr>\n",
       "    <tr>\n",
       "      <th>1</th>\n",
       "      <td>86.258012</td>\n",
       "      <td>2</td>\n",
       "      <td>0.10</td>\n",
       "    </tr>\n",
       "    <tr>\n",
       "      <th>2</th>\n",
       "      <td>75.590944</td>\n",
       "      <td>3</td>\n",
       "      <td>0.14</td>\n",
       "    </tr>\n",
       "    <tr>\n",
       "      <th>3</th>\n",
       "      <td>69.280851</td>\n",
       "      <td>5</td>\n",
       "      <td>0.16</td>\n",
       "    </tr>\n",
       "    <tr>\n",
       "      <th>4</th>\n",
       "      <td>36.848959</td>\n",
       "      <td>7</td>\n",
       "      <td>0.30</td>\n",
       "    </tr>\n",
       "    <tr>\n",
       "      <th>5</th>\n",
       "      <td>20.412660</td>\n",
       "      <td>8</td>\n",
       "      <td>0.50</td>\n",
       "    </tr>\n",
       "    <tr>\n",
       "      <th>6</th>\n",
       "      <td>18.679889</td>\n",
       "      <td>9</td>\n",
       "      <td>0.55</td>\n",
       "    </tr>\n",
       "    <tr>\n",
       "      <th>7</th>\n",
       "      <td>15.564904</td>\n",
       "      <td>10</td>\n",
       "      <td>0.65</td>\n",
       "    </tr>\n",
       "    <tr>\n",
       "      <th>8</th>\n",
       "      <td>13.040866</td>\n",
       "      <td>15</td>\n",
       "      <td>0.80</td>\n",
       "    </tr>\n",
       "    <tr>\n",
       "      <th>9</th>\n",
       "      <td>12.970753</td>\n",
       "      <td>20</td>\n",
       "      <td>0.70</td>\n",
       "    </tr>\n",
       "    <tr>\n",
       "      <th>10</th>\n",
       "      <td>11.528446</td>\n",
       "      <td>25</td>\n",
       "      <td>0.90</td>\n",
       "    </tr>\n",
       "  </tbody>\n",
       "</table>\n",
       "</div>"
      ],
      "text/plain": [
       "     accuracy  rotation  scale\n",
       "0   93.459535         1   0.05\n",
       "1   86.258012         2   0.10\n",
       "2   75.590944         3   0.14\n",
       "3   69.280851         5   0.16\n",
       "4   36.848959         7   0.30\n",
       "5   20.412660         8   0.50\n",
       "6   18.679889         9   0.55\n",
       "7   15.564904        10   0.65\n",
       "8   13.040866        15   0.80\n",
       "9   12.970753        20   0.70\n",
       "10  11.528446        25   0.90"
      ]
     },
     "execution_count": 82,
     "metadata": {},
     "output_type": "execute_result"
    }
   ],
   "source": [
    "why_df"
   ]
  },
  {
   "cell_type": "code",
   "execution_count": 83,
   "id": "13780a6f-8123-4650-aba2-004b75bf5370",
   "metadata": {
    "tags": []
   },
   "outputs": [
    {
     "data": {
      "image/png": "[encoded data removed]",
      "text/plain": [
       "<Figure size 640x480 with 1 Axes>"
      ]
     },
     "metadata": {},
     "output_type": "display_data"
    }
   ],
   "source": [
    "make_plot(rotation_values, acc_values, '')"
   ]
  },
  {
   "cell_type": "code",
   "execution_count": 84,
   "id": "1f6890d5-8ebf-49ed-91b7-b76014266787",
   "metadata": {},
   "outputs": [
    {
     "data": {
      "image/png": "[encoded data removed]",
      "text/plain": [
       "<Figure size 640x480 with 1 Axes>"
      ]
     },
     "metadata": {},
     "output_type": "display_data"
    }
   ],
   "source": [
    "make_plot(scale_values, acc_values, '')"
   ]
  },
  {
   "cell_type": "code",
   "execution_count": null,
   "id": "9b1c4aa1-6d7c-4dea-bddc-3fd684d5178e",
   "metadata": {},
   "outputs": [],
   "source": []
  },
  {
   "cell_type": "code",
   "execution_count": null,
   "id": "adb571db-fe9d-46b2-8b9c-cdb95f91db45",
   "metadata": {
    "tags": []
   },
   "outputs": [],
   "source": [
    "model.load_weights('rnet.h5')"
   ]
  },
  {
   "cell_type": "markdown",
   "id": "89361da9-3e99-4acf-be1d-33f420d2e02c",
   "metadata": {},
   "source": [
    "## Графики после дообучения:"
   ]
  },
  {
   "cell_type": "markdown",
   "id": "08f89602-495a-4eef-9a3f-725eb384e5fa",
   "metadata": {},
   "source": [
    "## Белый шум"
   ]
  },
  {
   "cell_type": "code",
   "execution_count": null,
   "id": "32b8e91e-31d2-488c-bb31-8c2d02c4899c",
   "metadata": {
    "tags": []
   },
   "outputs": [],
   "source": [
    "scale_values = []\n",
    "acc_values = []\n",
    "\n",
    "    \n",
    "while_scale = 0.1\n",
    "\n",
    "while while_scale <= 1:\n",
    "    scale_values.append(while_scale)\n",
    "    test_generator_noisy = image_generator_with_noise(X_test, y_test, batch_size, scale=while_scale)\n",
    "\n",
    "    steps = X_test.shape[0] // batch_size\n",
    "    loss, acc = model.evaluate(test_generator_noisy, steps=steps)\n",
    "    print(f\"Test accuracy: {acc*100}\")\n",
    "    \n",
    "    # Получить один батч изображений с шумом\n",
    "    #images_with_color_noise, labels = next(test_generator_color_noisy)\n",
    "\n",
    "    # Вывести первое изображение из батча\n",
    "   # plt.imshow(images_with_color_noise[0])\n",
    "   # plt.show()\n",
    "    acc_values.append(acc*100)\n",
    "    while_scale += 0.1\n",
    "    "
   ]
  },
  {
   "cell_type": "code",
   "execution_count": null,
   "id": "f45fd93e-b8a9-44b3-a8b1-81de87f0c049",
   "metadata": {
    "tags": []
   },
   "outputs": [],
   "source": [
    "make_plot(scale_values, acc_values, \"Зависимость accuracy от белого шума[после дообучения]\") "
   ]
  },
  {
   "cell_type": "code",
   "execution_count": null,
   "id": "30e491be-003f-4697-8c30-4d6a2b79f8b8",
   "metadata": {},
   "outputs": [],
   "source": []
  }
 ],
 "metadata": {
  "kernelspec": {
   "display_name": "Python 3 (ipykernel)",
   "language": "python",
   "name": "python3"
  },
  "language_info": {
   "codemirror_mode": {
    "name": "ipython",
    "version": 3
   },
   "file_extension": ".py",
   "mimetype": "text/x-python",
   "name": "python",
   "nbconvert_exporter": "python",
   "pygments_lexer": "ipython3",
   "version": "3.11.3"
  }
 },
 "nbformat": 4,
 "nbformat_minor": 5
}
